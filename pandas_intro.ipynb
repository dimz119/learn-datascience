{
 "cells": [
  {
   "cell_type": "code",
   "execution_count": 3,
   "id": "b4d03831",
   "metadata": {},
   "outputs": [],
   "source": [
    "import pandas as pd"
   ]
  },
  {
   "cell_type": "code",
   "execution_count": 5,
   "id": "af0a9935",
   "metadata": {},
   "outputs": [
    {
     "name": "stdout",
     "output_type": "stream",
     "text": [
      "Original DataFrame:\n",
      "      Name  Age           City  Salary\n",
      "0    Alice   25       New York   50000\n",
      "1      Bob   30  San Francisco   60000\n",
      "2  Charlie   35    Los Angeles   70000\n",
      "3    David   40        Chicago   80000\n",
      "4      Eva   45        Houston   90000\n"
     ]
    }
   ],
   "source": [
    "# Create a sample DataFrame\n",
    "data = {\n",
    "    'Name': ['Alice', 'Bob', 'Charlie', 'David', 'Eva'],\n",
    "    'Age': [25, 30, 35, 40, 45],\n",
    "    'City': ['New York', 'San Francisco', 'Los Angeles', 'Chicago', 'Houston'],\n",
    "    'Salary': [50000, 60000, 70000, 80000, 90000]\n",
    "}\n",
    "\n",
    "df = pd.DataFrame(data)\n",
    "\n",
    "# Display the DataFrame\n",
    "print(\"Original DataFrame:\")\n",
    "print(df)\n"
   ]
  },
  {
   "cell_type": "code",
   "execution_count": 6,
   "id": "caf2927e",
   "metadata": {},
   "outputs": [
    {
     "name": "stdout",
     "output_type": "stream",
     "text": [
      "\n",
      "DataFrame after adding 'Experience' column:\n",
      "      Name  Age           City  Salary  Experience\n",
      "0    Alice   25       New York   50000           2\n",
      "1      Bob   30  San Francisco   60000           5\n",
      "2  Charlie   35    Los Angeles   70000           8\n",
      "3    David   40        Chicago   80000          10\n",
      "4      Eva   45        Houston   90000          12\n",
      "\n",
      "People older than 30:\n",
      "      Name  Age         City  Salary  Experience\n",
      "2  Charlie   35  Los Angeles   70000           8\n",
      "3    David   40      Chicago   80000          10\n",
      "4      Eva   45      Houston   90000          12\n"
     ]
    }
   ],
   "source": [
    "\n",
    "# Add a new column 'Experience' to the DataFrame\n",
    "df['Experience'] = [2, 5, 8, 10, 12]\n",
    "print(\"\\nDataFrame after adding 'Experience' column:\")\n",
    "print(df)\n",
    "\n",
    "# Filter the data for people older than 30\n",
    "older_than_30 = df[df['Age'] > 30]\n",
    "print(\"\\nPeople older than 30:\")\n",
    "print(older_than_30)\n"
   ]
  },
  {
   "cell_type": "code",
   "execution_count": 8,
   "id": "d1a6c6f1",
   "metadata": {},
   "outputs": [
    {
     "name": "stdout",
     "output_type": "stream",
     "text": [
      "\n",
      "Average Salary: 70000.0\n",
      "\n",
      "Grouped by City:\n",
      "                Age   Salary  Experience\n",
      "City                                    \n",
      "Chicago        40.0  80000.0        10.0\n",
      "Houston        45.0  90000.0        12.0\n",
      "Los Angeles    35.0  70000.0         8.0\n",
      "New York       25.0  50000.0         2.0\n",
      "San Francisco  30.0  60000.0         5.0\n"
     ]
    }
   ],
   "source": [
    "# Calculate the average salary\n",
    "average_salary = df['Salary'].mean()\n",
    "print(f\"\\nAverage Salary: {average_salary}\")\n",
    "\n",
    "# Group by 'City' and calculate the mean of numerical columns\n",
    "grouped_by_city = df.groupby('City').mean()\n",
    "print(\"\\nGrouped by City:\")\n",
    "print(grouped_by_city)"
   ]
  },
  {
   "cell_type": "code",
   "execution_count": null,
   "id": "755e62da",
   "metadata": {},
   "outputs": [],
   "source": []
  }
 ],
 "metadata": {
  "kernelspec": {
   "display_name": "Python 3 (ipykernel)",
   "language": "python",
   "name": "python3"
  },
  "language_info": {
   "codemirror_mode": {
    "name": "ipython",
    "version": 3
   },
   "file_extension": ".py",
   "mimetype": "text/x-python",
   "name": "python",
   "nbconvert_exporter": "python",
   "pygments_lexer": "ipython3",
   "version": "3.9.13"
  }
 },
 "nbformat": 4,
 "nbformat_minor": 5
}
