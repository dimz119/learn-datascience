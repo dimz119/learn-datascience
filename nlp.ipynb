{
 "cells": [
  {
   "cell_type": "code",
   "execution_count": 16,
   "id": "3ccc1c0f",
   "metadata": {},
   "outputs": [],
   "source": [
    "import nltk\n",
    "import pandas as pd\n",
    "import matplotlib.pyplot as plt\n",
    "import seaborn as sns"
   ]
  },
  {
   "cell_type": "code",
   "execution_count": 3,
   "id": "51152ac1",
   "metadata": {},
   "outputs": [
    {
     "name": "stdout",
     "output_type": "stream",
     "text": [
      "NLTK Downloader\n",
      "---------------------------------------------------------------------------\n",
      "    d) Download   l) List    u) Update   c) Config   h) Help   q) Quit\n",
      "---------------------------------------------------------------------------\n",
      "Downloader> l\n",
      "\n",
      "Packages:\n",
      "  [ ] abc................. Australian Broadcasting Commission 2006\n",
      "  [ ] alpino.............. Alpino Dutch Treebank\n",
      "  [ ] averaged_perceptron_tagger Averaged Perceptron Tagger\n",
      "  [ ] averaged_perceptron_tagger_ru Averaged Perceptron Tagger (Russian)\n",
      "  [ ] basque_grammars..... Grammars for Basque\n",
      "  [ ] bcp47............... BCP-47 Language Tags\n",
      "  [ ] biocreative_ppi..... BioCreAtIvE (Critical Assessment of Information\n",
      "                           Extraction Systems in Biology)\n",
      "  [ ] bllip_wsj_no_aux.... BLLIP Parser: WSJ Model\n",
      "  [ ] book_grammars....... Grammars from NLTK Book\n",
      "  [ ] brown............... Brown Corpus\n",
      "  [ ] brown_tei........... Brown Corpus (TEI XML Version)\n",
      "  [ ] cess_cat............ CESS-CAT Treebank\n",
      "  [ ] cess_esp............ CESS-ESP Treebank\n",
      "  [ ] chat80.............. Chat-80 Data Files\n",
      "  [ ] city_database....... City Database\n",
      "  [ ] cmudict............. The Carnegie Mellon Pronouncing Dictionary (0.6)\n",
      "  [ ] comparative_sentences Comparative Sentence Dataset\n",
      "  [ ] comtrans............ ComTrans Corpus Sample\n",
      "  [ ] conll2000........... CONLL 2000 Chunking Corpus\n",
      "Hit Enter to continue: \n",
      "  [ ] conll2002........... CONLL 2002 Named Entity Recognition Corpus\n",
      "  [ ] conll2007........... Dependency Treebanks from CoNLL 2007 (Catalan\n",
      "                           and Basque Subset)\n",
      "  [ ] crubadan............ Crubadan Corpus\n",
      "  [ ] dependency_treebank. Dependency Parsed Treebank\n",
      "  [ ] dolch............... Dolch Word List\n",
      "  [ ] europarl_raw........ Sample European Parliament Proceedings Parallel\n",
      "                           Corpus\n",
      "  [ ] extended_omw........ Extended Open Multilingual WordNet\n",
      "  [ ] floresta............ Portuguese Treebank\n",
      "  [ ] framenet_v15........ FrameNet 1.5\n",
      "  [ ] framenet_v17........ FrameNet 1.7\n",
      "  [ ] gazetteers.......... Gazeteer Lists\n",
      "  [ ] genesis............. Genesis Corpus\n",
      "  [ ] gutenberg........... Project Gutenberg Selections\n",
      "  [ ] ieer................ NIST IE-ER DATA SAMPLE\n",
      "  [ ] inaugural........... C-Span Inaugural Address Corpus\n",
      "  [ ] indian.............. Indian Language POS-Tagged Corpus\n",
      "  [ ] jeita............... JEITA Public Morphologically Tagged Corpus (in\n",
      "                           ChaSen format)\n",
      "  [ ] kimmo............... PC-KIMMO Data Files\n",
      "Hit Enter to continue: \n",
      "  [ ] knbc................ KNB Corpus (Annotated blog corpus)\n",
      "  [ ] large_grammars...... Large context-free and feature-based grammars\n",
      "                           for parser comparison\n",
      "  [ ] lin_thesaurus....... Lin's Dependency Thesaurus\n",
      "  [ ] mac_morpho.......... MAC-MORPHO: Brazilian Portuguese news text with\n",
      "                           part-of-speech tags\n",
      "  [ ] machado............. Machado de Assis -- Obra Completa\n",
      "  [ ] masc_tagged......... MASC Tagged Corpus\n",
      "  [ ] maxent_ne_chunker... ACE Named Entity Chunker (Maximum entropy)\n",
      "  [ ] maxent_treebank_pos_tagger Treebank Part of Speech Tagger (Maximum entropy)\n",
      "  [ ] moses_sample........ Moses Sample Models\n",
      "  [ ] movie_reviews....... Sentiment Polarity Dataset Version 2.0\n",
      "  [ ] mte_teip5........... MULTEXT-East 1984 annotated corpus 4.0\n",
      "  [ ] mwa_ppdb............ The monolingual word aligner (Sultan et al.\n",
      "                           2015) subset of the Paraphrase Database.\n",
      "  [ ] names............... Names Corpus, Version 1.3 (1994-03-29)\n",
      "  [ ] nombank.1.0......... NomBank Corpus 1.0\n",
      "  [ ] nonbreaking_prefixes Non-Breaking Prefixes (Moses Decoder)\n",
      "  [ ] nps_chat............ NPS Chat\n",
      "  [ ] omw-1.4............. Open Multilingual Wordnet\n",
      "  [ ] omw................. Open Multilingual Wordnet\n",
      "Hit Enter to continue: \n",
      "  [ ] opinion_lexicon..... Opinion Lexicon\n",
      "  [ ] panlex_swadesh...... PanLex Swadesh Corpora\n",
      "  [ ] paradigms........... Paradigm Corpus\n",
      "  [ ] pe08................ Cross-Framework and Cross-Domain Parser\n",
      "                           Evaluation Shared Task\n",
      "  [ ] perluniprops........ perluniprops: Index of Unicode Version 7.0.0\n",
      "                           character properties in Perl\n",
      "  [ ] pil................. The Patient Information Leaflet (PIL) Corpus\n",
      "  [ ] pl196x.............. Polish language of the XX century sixties\n",
      "  [ ] porter_test......... Porter Stemmer Test Files\n",
      "  [ ] ppattach............ Prepositional Phrase Attachment Corpus\n",
      "  [ ] problem_reports..... Problem Report Corpus\n",
      "  [ ] product_reviews_1... Product Reviews (5 Products)\n",
      "  [ ] product_reviews_2... Product Reviews (9 Products)\n",
      "  [ ] propbank............ Proposition Bank Corpus 1.0\n",
      "  [ ] pros_cons........... Pros and Cons\n",
      "  [ ] ptb................. Penn Treebank\n",
      "  [ ] punkt............... Punkt Tokenizer Models\n",
      "  [ ] qc.................. Experimental Data for Question Classification\n",
      "  [ ] reuters............. The Reuters-21578 benchmark corpus, ApteMod\n",
      "                           version\n",
      "Hit Enter to continue: \n",
      "  [ ] rslp................ RSLP Stemmer (Removedor de Sufixos da Lingua\n",
      "                           Portuguesa)\n",
      "  [ ] rte................. PASCAL RTE Challenges 1, 2, and 3\n",
      "  [ ] sample_grammars..... Sample Grammars\n",
      "  [ ] semcor.............. SemCor 3.0\n",
      "  [ ] senseval............ SENSEVAL 2 Corpus: Sense Tagged Text\n",
      "  [ ] sentence_polarity... Sentence Polarity Dataset v1.0\n",
      "  [ ] sentiwordnet........ SentiWordNet\n",
      "  [ ] shakespeare......... Shakespeare XML Corpus Sample\n",
      "  [ ] sinica_treebank..... Sinica Treebank Corpus Sample\n",
      "  [ ] smultron............ SMULTRON Corpus Sample\n",
      "  [ ] snowball_data....... Snowball Data\n",
      "  [ ] spanish_grammars.... Grammars for Spanish\n",
      "  [ ] state_union......... C-Span State of the Union Address Corpus\n",
      "  [*] stopwords........... Stopwords Corpus\n",
      "  [ ] subjectivity........ Subjectivity Dataset v1.0\n",
      "  [ ] swadesh............. Swadesh Wordlists\n",
      "  [ ] switchboard......... Switchboard Corpus Sample\n",
      "  [ ] tagsets............. Help on Tagsets\n",
      "  [ ] timit............... TIMIT Corpus Sample\n",
      "  [ ] toolbox............. Toolbox Sample Files\n",
      "Hit Enter to continue: d\n",
      "  [ ] treebank............ Penn Treebank Sample\n",
      "  [ ] twitter_samples..... Twitter Samples\n",
      "  [ ] udhr2............... Universal Declaration of Human Rights Corpus\n",
      "                           (Unicode Version)\n",
      "  [ ] udhr................ Universal Declaration of Human Rights Corpus\n",
      "  [ ] unicode_samples..... Unicode Samples\n",
      "  [ ] universal_tagset.... Mappings to the Universal Part-of-Speech Tagset\n",
      "  [ ] universal_treebanks_v20 Universal Treebanks Version 2.0\n",
      "  [ ] vader_lexicon....... VADER Sentiment Lexicon\n",
      "  [ ] verbnet3............ VerbNet Lexicon, Version 3.3\n",
      "  [ ] verbnet............. VerbNet Lexicon, Version 2.1\n",
      "  [ ] webtext............. Web Text Corpus\n",
      "  [ ] wmt15_eval.......... Evaluation data from WMT15\n",
      "  [ ] word2vec_sample..... Word2Vec Sample\n",
      "  [ ] wordnet2021......... Open English Wordnet 2021\n",
      "  [ ] wordnet2022......... Open English Wordnet 2022\n",
      "  [ ] wordnet31........... Wordnet 3.1\n",
      "  [ ] wordnet............. WordNet\n",
      "  [ ] wordnet_ic.......... WordNet-InfoContent\n",
      "  [ ] words............... Word Lists\n",
      "  [ ] ycoe................ York-Toronto-Helsinki Parsed Corpus of Old\n",
      "                           English Prose\n",
      "Hit Enter to continue: \n",
      "\n",
      "Collections:\n",
      "  [P] all-corpora......... All the corpora\n",
      "  [P] all-nltk............ All packages available on nltk_data gh-pages\n",
      "                           branch\n",
      "  [P] all................. All packages\n",
      "  [P] book................ Everything used in the NLTK Book\n",
      "  [P] popular............. Popular packages\n",
      "  [ ] tests............... Packages for running tests\n",
      "  [ ] third-party......... Third-party data packages\n",
      "\n",
      "([*] marks installed packages; [P] marks partially installed collections)\n",
      "\n",
      "---------------------------------------------------------------------------\n",
      "    d) Download   l) List    u) Update   c) Config   h) Help   q) Quit\n",
      "---------------------------------------------------------------------------\n",
      "Downloader> d\n",
      "\n",
      "Download which package (l=list; x=cancel)?\n",
      "  Identifier> stopwords\n"
     ]
    },
    {
     "name": "stderr",
     "output_type": "stream",
     "text": [
      "    Downloading package stopwords to /Users/seungjoonlee/nltk_data...\n",
      "      Package stopwords is already up-to-date!\n"
     ]
    },
    {
     "name": "stdout",
     "output_type": "stream",
     "text": [
      "\n",
      "---------------------------------------------------------------------------\n",
      "    d) Download   l) List    u) Update   c) Config   h) Help   q) Quit\n",
      "---------------------------------------------------------------------------\n",
      "Downloader> q\n"
     ]
    }
   ],
   "source": [
    "nltk.download_shell()"
   ]
  },
  {
   "cell_type": "code",
   "execution_count": 4,
   "id": "2e60ffb7",
   "metadata": {},
   "outputs": [],
   "source": [
    "# https://archive.ics.uci.edu/ml/datasets/sms+spam+collection"
   ]
  },
  {
   "cell_type": "code",
   "execution_count": 9,
   "id": "98fae1da",
   "metadata": {},
   "outputs": [],
   "source": [
    "labels = [\"label\", \"context\"]\n",
    "contexts = pd.read_csv(\"sample/smsspamcollection/SMSSpamCollection\", sep=\"\\t\", names=labels)"
   ]
  },
  {
   "cell_type": "code",
   "execution_count": 10,
   "id": "e1374320",
   "metadata": {},
   "outputs": [
    {
     "data": {
      "text/html": [
       "<div>\n",
       "<style scoped>\n",
       "    .dataframe tbody tr th:only-of-type {\n",
       "        vertical-align: middle;\n",
       "    }\n",
       "\n",
       "    .dataframe tbody tr th {\n",
       "        vertical-align: top;\n",
       "    }\n",
       "\n",
       "    .dataframe thead th {\n",
       "        text-align: right;\n",
       "    }\n",
       "</style>\n",
       "<table border=\"1\" class=\"dataframe\">\n",
       "  <thead>\n",
       "    <tr style=\"text-align: right;\">\n",
       "      <th></th>\n",
       "      <th>label</th>\n",
       "      <th>context</th>\n",
       "    </tr>\n",
       "  </thead>\n",
       "  <tbody>\n",
       "    <tr>\n",
       "      <th>0</th>\n",
       "      <td>ham</td>\n",
       "      <td>Go until jurong point, crazy.. Available only ...</td>\n",
       "    </tr>\n",
       "    <tr>\n",
       "      <th>1</th>\n",
       "      <td>ham</td>\n",
       "      <td>Ok lar... Joking wif u oni...</td>\n",
       "    </tr>\n",
       "    <tr>\n",
       "      <th>2</th>\n",
       "      <td>spam</td>\n",
       "      <td>Free entry in 2 a wkly comp to win FA Cup fina...</td>\n",
       "    </tr>\n",
       "    <tr>\n",
       "      <th>3</th>\n",
       "      <td>ham</td>\n",
       "      <td>U dun say so early hor... U c already then say...</td>\n",
       "    </tr>\n",
       "    <tr>\n",
       "      <th>4</th>\n",
       "      <td>ham</td>\n",
       "      <td>Nah I don't think he goes to usf, he lives aro...</td>\n",
       "    </tr>\n",
       "  </tbody>\n",
       "</table>\n",
       "</div>"
      ],
      "text/plain": [
       "  label                                            context\n",
       "0   ham  Go until jurong point, crazy.. Available only ...\n",
       "1   ham                      Ok lar... Joking wif u oni...\n",
       "2  spam  Free entry in 2 a wkly comp to win FA Cup fina...\n",
       "3   ham  U dun say so early hor... U c already then say...\n",
       "4   ham  Nah I don't think he goes to usf, he lives aro..."
      ]
     },
     "execution_count": 10,
     "metadata": {},
     "output_type": "execute_result"
    }
   ],
   "source": [
    "contexts.head()"
   ]
  },
  {
   "cell_type": "code",
   "execution_count": 11,
   "id": "2f6abbd8",
   "metadata": {},
   "outputs": [
    {
     "data": {
      "text/html": [
       "<div>\n",
       "<style scoped>\n",
       "    .dataframe tbody tr th:only-of-type {\n",
       "        vertical-align: middle;\n",
       "    }\n",
       "\n",
       "    .dataframe tbody tr th {\n",
       "        vertical-align: top;\n",
       "    }\n",
       "\n",
       "    .dataframe thead th {\n",
       "        text-align: right;\n",
       "    }\n",
       "</style>\n",
       "<table border=\"1\" class=\"dataframe\">\n",
       "  <thead>\n",
       "    <tr style=\"text-align: right;\">\n",
       "      <th></th>\n",
       "      <th>label</th>\n",
       "      <th>context</th>\n",
       "    </tr>\n",
       "  </thead>\n",
       "  <tbody>\n",
       "    <tr>\n",
       "      <th>count</th>\n",
       "      <td>5572</td>\n",
       "      <td>5572</td>\n",
       "    </tr>\n",
       "    <tr>\n",
       "      <th>unique</th>\n",
       "      <td>2</td>\n",
       "      <td>5169</td>\n",
       "    </tr>\n",
       "    <tr>\n",
       "      <th>top</th>\n",
       "      <td>ham</td>\n",
       "      <td>Sorry, I'll call later</td>\n",
       "    </tr>\n",
       "    <tr>\n",
       "      <th>freq</th>\n",
       "      <td>4825</td>\n",
       "      <td>30</td>\n",
       "    </tr>\n",
       "  </tbody>\n",
       "</table>\n",
       "</div>"
      ],
      "text/plain": [
       "       label                 context\n",
       "count   5572                    5572\n",
       "unique     2                    5169\n",
       "top      ham  Sorry, I'll call later\n",
       "freq    4825                      30"
      ]
     },
     "execution_count": 11,
     "metadata": {},
     "output_type": "execute_result"
    }
   ],
   "source": [
    "contexts.describe()"
   ]
  },
  {
   "cell_type": "code",
   "execution_count": 12,
   "id": "6f2eec63",
   "metadata": {},
   "outputs": [
    {
     "data": {
      "text/html": [
       "<div>\n",
       "<style scoped>\n",
       "    .dataframe tbody tr th:only-of-type {\n",
       "        vertical-align: middle;\n",
       "    }\n",
       "\n",
       "    .dataframe tbody tr th {\n",
       "        vertical-align: top;\n",
       "    }\n",
       "\n",
       "    .dataframe thead tr th {\n",
       "        text-align: left;\n",
       "    }\n",
       "\n",
       "    .dataframe thead tr:last-of-type th {\n",
       "        text-align: right;\n",
       "    }\n",
       "</style>\n",
       "<table border=\"1\" class=\"dataframe\">\n",
       "  <thead>\n",
       "    <tr>\n",
       "      <th></th>\n",
       "      <th colspan=\"4\" halign=\"left\">context</th>\n",
       "    </tr>\n",
       "    <tr>\n",
       "      <th></th>\n",
       "      <th>count</th>\n",
       "      <th>unique</th>\n",
       "      <th>top</th>\n",
       "      <th>freq</th>\n",
       "    </tr>\n",
       "    <tr>\n",
       "      <th>label</th>\n",
       "      <th></th>\n",
       "      <th></th>\n",
       "      <th></th>\n",
       "      <th></th>\n",
       "    </tr>\n",
       "  </thead>\n",
       "  <tbody>\n",
       "    <tr>\n",
       "      <th>ham</th>\n",
       "      <td>4825</td>\n",
       "      <td>4516</td>\n",
       "      <td>Sorry, I'll call later</td>\n",
       "      <td>30</td>\n",
       "    </tr>\n",
       "    <tr>\n",
       "      <th>spam</th>\n",
       "      <td>747</td>\n",
       "      <td>653</td>\n",
       "      <td>Please call our customer service representativ...</td>\n",
       "      <td>4</td>\n",
       "    </tr>\n",
       "  </tbody>\n",
       "</table>\n",
       "</div>"
      ],
      "text/plain": [
       "      context                                                               \n",
       "        count unique                                                top freq\n",
       "label                                                                       \n",
       "ham      4825   4516                             Sorry, I'll call later   30\n",
       "spam      747    653  Please call our customer service representativ...    4"
      ]
     },
     "execution_count": 12,
     "metadata": {},
     "output_type": "execute_result"
    }
   ],
   "source": [
    "contexts.groupby('label').describe()"
   ]
  },
  {
   "cell_type": "code",
   "execution_count": 13,
   "id": "950ea2b4",
   "metadata": {},
   "outputs": [],
   "source": [
    "contexts['size'] = contexts['context'].apply(len)"
   ]
  },
  {
   "cell_type": "code",
   "execution_count": 14,
   "id": "ed4ff006",
   "metadata": {},
   "outputs": [
    {
     "data": {
      "text/html": [
       "<div>\n",
       "<style scoped>\n",
       "    .dataframe tbody tr th:only-of-type {\n",
       "        vertical-align: middle;\n",
       "    }\n",
       "\n",
       "    .dataframe tbody tr th {\n",
       "        vertical-align: top;\n",
       "    }\n",
       "\n",
       "    .dataframe thead th {\n",
       "        text-align: right;\n",
       "    }\n",
       "</style>\n",
       "<table border=\"1\" class=\"dataframe\">\n",
       "  <thead>\n",
       "    <tr style=\"text-align: right;\">\n",
       "      <th></th>\n",
       "      <th>label</th>\n",
       "      <th>context</th>\n",
       "      <th>size</th>\n",
       "    </tr>\n",
       "  </thead>\n",
       "  <tbody>\n",
       "    <tr>\n",
       "      <th>0</th>\n",
       "      <td>ham</td>\n",
       "      <td>Go until jurong point, crazy.. Available only ...</td>\n",
       "      <td>111</td>\n",
       "    </tr>\n",
       "    <tr>\n",
       "      <th>1</th>\n",
       "      <td>ham</td>\n",
       "      <td>Ok lar... Joking wif u oni...</td>\n",
       "      <td>29</td>\n",
       "    </tr>\n",
       "    <tr>\n",
       "      <th>2</th>\n",
       "      <td>spam</td>\n",
       "      <td>Free entry in 2 a wkly comp to win FA Cup fina...</td>\n",
       "      <td>155</td>\n",
       "    </tr>\n",
       "    <tr>\n",
       "      <th>3</th>\n",
       "      <td>ham</td>\n",
       "      <td>U dun say so early hor... U c already then say...</td>\n",
       "      <td>49</td>\n",
       "    </tr>\n",
       "    <tr>\n",
       "      <th>4</th>\n",
       "      <td>ham</td>\n",
       "      <td>Nah I don't think he goes to usf, he lives aro...</td>\n",
       "      <td>61</td>\n",
       "    </tr>\n",
       "  </tbody>\n",
       "</table>\n",
       "</div>"
      ],
      "text/plain": [
       "  label                                            context  size\n",
       "0   ham  Go until jurong point, crazy.. Available only ...   111\n",
       "1   ham                      Ok lar... Joking wif u oni...    29\n",
       "2  spam  Free entry in 2 a wkly comp to win FA Cup fina...   155\n",
       "3   ham  U dun say so early hor... U c already then say...    49\n",
       "4   ham  Nah I don't think he goes to usf, he lives aro...    61"
      ]
     },
     "execution_count": 14,
     "metadata": {},
     "output_type": "execute_result"
    }
   ],
   "source": [
    "contexts.head()"
   ]
  },
  {
   "cell_type": "code",
   "execution_count": 19,
   "id": "3059de7f",
   "metadata": {},
   "outputs": [
    {
     "data": {
      "text/html": [
       "<div>\n",
       "<style scoped>\n",
       "    .dataframe tbody tr th:only-of-type {\n",
       "        vertical-align: middle;\n",
       "    }\n",
       "\n",
       "    .dataframe tbody tr th {\n",
       "        vertical-align: top;\n",
       "    }\n",
       "\n",
       "    .dataframe thead th {\n",
       "        text-align: right;\n",
       "    }\n",
       "</style>\n",
       "<table border=\"1\" class=\"dataframe\">\n",
       "  <thead>\n",
       "    <tr style=\"text-align: right;\">\n",
       "      <th></th>\n",
       "      <th>size</th>\n",
       "    </tr>\n",
       "  </thead>\n",
       "  <tbody>\n",
       "    <tr>\n",
       "      <th>count</th>\n",
       "      <td>5572.000000</td>\n",
       "    </tr>\n",
       "    <tr>\n",
       "      <th>mean</th>\n",
       "      <td>80.489950</td>\n",
       "    </tr>\n",
       "    <tr>\n",
       "      <th>std</th>\n",
       "      <td>59.942907</td>\n",
       "    </tr>\n",
       "    <tr>\n",
       "      <th>min</th>\n",
       "      <td>2.000000</td>\n",
       "    </tr>\n",
       "    <tr>\n",
       "      <th>25%</th>\n",
       "      <td>36.000000</td>\n",
       "    </tr>\n",
       "    <tr>\n",
       "      <th>50%</th>\n",
       "      <td>62.000000</td>\n",
       "    </tr>\n",
       "    <tr>\n",
       "      <th>75%</th>\n",
       "      <td>122.000000</td>\n",
       "    </tr>\n",
       "    <tr>\n",
       "      <th>max</th>\n",
       "      <td>910.000000</td>\n",
       "    </tr>\n",
       "  </tbody>\n",
       "</table>\n",
       "</div>"
      ],
      "text/plain": [
       "              size\n",
       "count  5572.000000\n",
       "mean     80.489950\n",
       "std      59.942907\n",
       "min       2.000000\n",
       "25%      36.000000\n",
       "50%      62.000000\n",
       "75%     122.000000\n",
       "max     910.000000"
      ]
     },
     "execution_count": 19,
     "metadata": {},
     "output_type": "execute_result"
    }
   ],
   "source": [
    "contexts.describe()"
   ]
  },
  {
   "cell_type": "code",
   "execution_count": 20,
   "id": "8cbb5b81",
   "metadata": {},
   "outputs": [
    {
     "data": {
      "text/plain": [
       "<AxesSubplot:ylabel='Frequency'>"
      ]
     },
     "execution_count": 20,
     "metadata": {},
     "output_type": "execute_result"
    },
    {
     "data": {
      "image/png": "[encoded data removed]",
      "text/plain": [
       "<Figure size 640x480 with 1 Axes>"
      ]
     },
     "metadata": {},
     "output_type": "display_data"
    }
   ],
   "source": [
    "contexts['size'].plot.hist(bins=50)"
   ]
  },
  {
   "cell_type": "code",
   "execution_count": 22,
   "id": "a1c830b9",
   "metadata": {},
   "outputs": [
    {
     "data": {
      "text/plain": [
       "array([<AxesSubplot:title={'center':'ham'}>,\n",
       "       <AxesSubplot:title={'center':'spam'}>], dtype=object)"
      ]
     },
     "execution_count": 22,
     "metadata": {},
     "output_type": "execute_result"
    },
    {
     "data": {
      "image/png": "[encoded data removed]",
      "text/plain": [
       "<Figure size 1200x400 with 2 Axes>"
      ]
     },
     "metadata": {},
     "output_type": "display_data"
    }
   ],
   "source": [
    "contexts.hist(column='size', by='label', bins=50, figsize=(12,4))"
   ]
  },
  {
   "cell_type": "markdown",
   "id": "d3db3451",
   "metadata": {},
   "source": [
    "# Preprocessing"
   ]
  },
  {
   "cell_type": "code",
   "execution_count": 31,
   "id": "06d1afa8",
   "metadata": {},
   "outputs": [],
   "source": [
    "import string"
   ]
  },
  {
   "cell_type": "code",
   "execution_count": 32,
   "id": "5c2fe722",
   "metadata": {
    "scrolled": true
   },
   "outputs": [
    {
     "data": {
      "text/plain": [
       "'!\"#$%&\\'()*+,-./:;<=>?@[\\\\]^_`{|}~'"
      ]
     },
     "execution_count": 32,
     "metadata": {},
     "output_type": "execute_result"
    }
   ],
   "source": [
    "string.punctuation"
   ]
  },
  {
   "cell_type": "code",
   "execution_count": 41,
   "id": "265fe8b2",
   "metadata": {},
   "outputs": [],
   "source": [
    "sample_context = \"There are too many spams in my email! I hate these spam!!\""
   ]
  },
  {
   "cell_type": "code",
   "execution_count": 42,
   "id": "1151d7c9",
   "metadata": {},
   "outputs": [],
   "source": [
    "cleaned_ch = [ch for ch in sample_context if not ch in string.punctuation]"
   ]
  },
  {
   "cell_type": "code",
   "execution_count": 43,
   "id": "23a5fd4e",
   "metadata": {},
   "outputs": [],
   "source": [
    "cleaned_context = \"\".join(cleaned_ch)"
   ]
  },
  {
   "cell_type": "code",
   "execution_count": 44,
   "id": "8d372b02",
   "metadata": {},
   "outputs": [
    {
     "name": "stdout",
     "output_type": "stream",
     "text": [
      "There are too many spams in my email I hate these spam\n"
     ]
    }
   ],
   "source": [
    "print(cleaned_context)"
   ]
  },
  {
   "cell_type": "code",
   "execution_count": 25,
   "id": "ca410473",
   "metadata": {},
   "outputs": [],
   "source": [
    "from nltk.corpus import stopwords"
   ]
  },
  {
   "cell_type": "code",
   "execution_count": 26,
   "id": "3da011a1",
   "metadata": {},
   "outputs": [
    {
     "name": "stdout",
     "output_type": "stream",
     "text": [
      "{'them', 'am', 'so', 'had', 'were', 'did', 'aren', 'has', 'mightn', 'herself', 'against', 'her', \"haven't\", \"you'd\", 'as', 'now', 'shan', 'it', 'ain', 'will', 'me', \"shan't\", 'mustn', 'how', 'below', 'off', 'from', \"doesn't\", 'yours', 'into', 'don', 'him', 'wouldn', 'some', 'between', 'which', 's', \"wasn't\", 'too', 'are', 'there', 'above', \"you'll\", \"you're\", 'such', 'himself', 'doing', 'doesn', 'hers', 'after', 'until', 'about', 'we', 'through', 'in', 'they', 'their', 'have', 'shouldn', 'theirs', 'each', 'didn', 'any', \"hasn't\", 'while', 'your', 'over', 'where', 'themselves', 'is', 'she', 'because', 'itself', 'these', 'hadn', 'a', 'own', 'won', 'can', 'than', 'here', 't', 'again', 'nor', 'couldn', 'very', 'do', 'should', 'by', 'd', 'all', 'when', 'having', 'no', 'he', 'up', \"don't\", \"that'll\", \"won't\", 'yourselves', \"she's\", 'this', 'ourselves', \"it's\", 'both', 'further', \"should've\", 'ours', 'once', 'same', 'haven', 'yourself', 'on', 'been', 'if', 'was', 'of', \"mightn't\", \"mustn't\", 'those', 'not', 'why', 'll', \"hadn't\", \"aren't\", 'being', 'the', 'weren', 'm', 'just', \"couldn't\", 'then', 'down', 'before', 're', 'be', 'does', 'isn', 'under', 'our', 'an', 'o', \"isn't\", 'out', \"weren't\", \"wouldn't\", 've', \"needn't\", \"shouldn't\", 'or', 'few', 'during', 'what', 'only', \"didn't\", 'its', 'needn', 'with', 'whom', 'his', 'and', 'ma', 'that', 'you', 'other', 'but', 'hasn', 'more', 'my', 'who', 'myself', 'at', 'for', \"you've\", 'y', 'wasn', 'to', 'most', 'i'}\n"
     ]
    }
   ],
   "source": [
    "stop_words = set(stopwords.words('english'))\n",
    "print(stop_words)"
   ]
  },
  {
   "cell_type": "code",
   "execution_count": 46,
   "id": "4142762f",
   "metadata": {},
   "outputs": [],
   "source": [
    "cleaned_words = cleaned_context.split()"
   ]
  },
  {
   "cell_type": "code",
   "execution_count": 47,
   "id": "cc4949b8",
   "metadata": {},
   "outputs": [
    {
     "data": {
      "text/plain": [
       "['There',\n",
       " 'are',\n",
       " 'too',\n",
       " 'many',\n",
       " 'spams',\n",
       " 'in',\n",
       " 'my',\n",
       " 'email',\n",
       " 'I',\n",
       " 'hate',\n",
       " 'these',\n",
       " 'spam']"
      ]
     },
     "execution_count": 47,
     "metadata": {},
     "output_type": "execute_result"
    }
   ],
   "source": [
    "cleaned_words"
   ]
  },
  {
   "cell_type": "code",
   "execution_count": 49,
   "id": "5faf138c",
   "metadata": {},
   "outputs": [],
   "source": [
    "filtered_words = list(filter(lambda word: word.lower() not in stop_words, cleaned_words))"
   ]
  },
  {
   "cell_type": "code",
   "execution_count": 50,
   "id": "72f4835f",
   "metadata": {},
   "outputs": [
    {
     "data": {
      "text/plain": [
       "['many', 'spams', 'email', 'hate', 'spam']"
      ]
     },
     "execution_count": 50,
     "metadata": {},
     "output_type": "execute_result"
    }
   ],
   "source": [
    "filtered_words"
   ]
  },
  {
   "cell_type": "code",
   "execution_count": 51,
   "id": "b80978a5",
   "metadata": {},
   "outputs": [],
   "source": [
    "def preprocessing(context: str) -> str:\n",
    "    cleaned_ch = [ch for ch in context if not ch in string.punctuation]\n",
    "    cleaned_context = \"\".join(cleaned_ch)\n",
    "    cleaned_words = cleaned_context.split()\n",
    "    filtered_words = list(filter(lambda word: word.lower() not in stop_words, cleaned_words))\n",
    "    return filtered_words"
   ]
  },
  {
   "cell_type": "code",
   "execution_count": 52,
   "id": "67e3bdd1",
   "metadata": {},
   "outputs": [
    {
     "data": {
      "text/plain": [
       "0    [Go, jurong, point, crazy, Available, bugis, n...\n",
       "1                       [Ok, lar, Joking, wif, u, oni]\n",
       "2    [Free, entry, 2, wkly, comp, win, FA, Cup, fin...\n",
       "3        [U, dun, say, early, hor, U, c, already, say]\n",
       "4    [Nah, dont, think, goes, usf, lives, around, t...\n",
       "Name: context, dtype: object"
      ]
     },
     "execution_count": 52,
     "metadata": {},
     "output_type": "execute_result"
    }
   ],
   "source": [
    "contexts['context'].head(5).apply(preprocessing)"
   ]
  },
  {
   "cell_type": "markdown",
   "id": "34889c56",
   "metadata": {},
   "source": [
    "## What is CountVectorizer?\n",
    "CountVectorizer: convert a collection of text documents to a matrix of token (words, terms etc.) counts\n",
    "\n",
    " - It tokenizes the text along with performing very basic preprocessing. This preprocessing includes converting all the text to lowercase and removing punctuation.\n",
    " - It builds a dictionary of features and transforms documents to feature vectors."
   ]
  },
  {
   "cell_type": "code",
   "execution_count": 59,
   "id": "d528d3b4",
   "metadata": {},
   "outputs": [],
   "source": [
    "from sklearn.feature_extraction.text import CountVectorizer\n",
    "# CountVectorizer: convert a collection of text documents to a matrix of token (words, terms etc.) counts\n",
    "# 1.It tokenizes the text along with performing very basic preprocessing. \n",
    "# This preprocessing includes converting all the text to lowercase and removing punctuation.\n",
    "# 2. It builds a dictionary of features and transforms documents to feature vectors."
   ]
  },
  {
   "cell_type": "code",
   "execution_count": 77,
   "id": "51bbf317",
   "metadata": {},
   "outputs": [],
   "source": [
    "# create a corpus of sentences\n",
    "corpus = [\n",
    "    \"Hello, this is a sentence\",\n",
    "    \"This is another sentence\",\n",
    "    \"Third document is here\"\n",
    "]\n",
    "\n",
    "vectorizer = CountVectorizer()"
   ]
  },
  {
   "cell_type": "code",
   "execution_count": 78,
   "id": "dc48dd8d",
   "metadata": {
    "scrolled": true
   },
   "outputs": [
    {
     "data": {
      "text/plain": [
       "CountVectorizer()"
      ]
     },
     "execution_count": 78,
     "metadata": {},
     "output_type": "execute_result"
    }
   ],
   "source": [
    "# tokenize and build vocabulary\n",
    "vectorizer.fit(corpus)"
   ]
  },
  {
   "cell_type": "code",
   "execution_count": 79,
   "id": "ac30e342",
   "metadata": {},
   "outputs": [
    {
     "data": {
      "text/plain": [
       "{'hello': 2,\n",
       " 'this': 7,\n",
       " 'is': 4,\n",
       " 'sentence': 5,\n",
       " 'another': 0,\n",
       " 'third': 6,\n",
       " 'document': 1,\n",
       " 'here': 3}"
      ]
     },
     "execution_count": 79,
     "metadata": {},
     "output_type": "execute_result"
    }
   ],
   "source": [
    "# summarize\n",
    "vectorizer.vocabulary_"
   ]
  },
  {
   "cell_type": "code",
   "execution_count": 81,
   "id": "49e43c5a",
   "metadata": {},
   "outputs": [],
   "source": [
    "# encode document\n",
    "vector = vectorizer.transform(corpus)"
   ]
  },
  {
   "cell_type": "code",
   "execution_count": 103,
   "id": "17acc28e",
   "metadata": {},
   "outputs": [
    {
     "name": "stdout",
     "output_type": "stream",
     "text": [
      "  (0, 2)\t1\n",
      "  (0, 4)\t1\n",
      "  (0, 5)\t1\n",
      "  (0, 7)\t1\n",
      "  (1, 0)\t1\n",
      "  (1, 4)\t1\n",
      "  (1, 5)\t1\n",
      "  (1, 7)\t1\n",
      "  (2, 1)\t1\n",
      "  (2, 3)\t1\n",
      "  (2, 4)\t1\n",
      "  (2, 6)\t1\n"
     ]
    }
   ],
   "source": [
    "print(vector)"
   ]
  },
  {
   "cell_type": "code",
   "execution_count": 82,
   "id": "092e4114",
   "metadata": {},
   "outputs": [
    {
     "name": "stdout",
     "output_type": "stream",
     "text": [
      "[[0 0 1 0 1 1 0 1]\n",
      " [1 0 0 0 1 1 0 1]\n",
      " [0 1 0 1 1 0 1 0]]\n"
     ]
    }
   ],
   "source": [
    "# summarize encoded vector\n",
    "print(vector.toarray())"
   ]
  },
  {
   "cell_type": "markdown",
   "id": "7c291270",
   "metadata": {},
   "source": [
    "# Apply our example"
   ]
  },
  {
   "cell_type": "code",
   "execution_count": 88,
   "id": "0421493c",
   "metadata": {},
   "outputs": [],
   "source": [
    "bow_tf = CountVectorizer(analyzer=preprocessing).fit(contexts['context'])"
   ]
  },
  {
   "cell_type": "code",
   "execution_count": 89,
   "id": "c76b188b",
   "metadata": {},
   "outputs": [
    {
     "data": {
      "text/plain": [
       "{'Go': 2060,\n",
       " 'jurong': 7555,\n",
       " 'point': 8917,\n",
       " 'crazy': 5769,\n",
       " 'Available': 1110,\n",
       " 'bugis': 5218,\n",
       " 'n': 8336,\n",
       " 'great': 6937,\n",
       " 'world': 11163,\n",
       " 'la': 7668,\n",
       " 'e': 6217,\n",
       " 'buffet': 5217,\n",
       " 'Cine': 1483,\n",
       " 'got': 6906,\n",
       " 'amore': 4653,\n",
       " 'wat': 10965,\n",
       " 'Ok': 3064,\n",
       " 'lar': 7701,\n",
       " 'Joking': 2451,\n",
       " 'wif': 11072,\n",
       " 'u': 10698,\n",
       " 'oni': 8590,\n",
       " 'Free': 1941,\n",
       " 'entry': 6331,\n",
       " '2': 423,\n",
       " 'wkly': 11123,\n",
       " 'comp': 5619,\n",
       " 'win': 11084,\n",
       " 'FA': 1833,\n",
       " 'Cup': 1551,\n",
       " 'final': 6557,\n",
       " 'tkts': 10512,\n",
       " '21st': 443,\n",
       " 'May': 2804,\n",
       " '2005': 430,\n",
       " 'Text': 3953,\n",
       " '87121': 871,\n",
       " 'receive': 9252,\n",
       " 'questionstd': 9159,\n",
       " 'txt': 10686,\n",
       " 'rateTCs': 9200,\n",
       " 'apply': 4731,\n",
       " '08452810075over18s': 73,\n",
       " 'U': 4068,\n",
       " 'dun': 6204,\n",
       " 'say': 9554,\n",
       " 'early': 6222,\n",
       " 'hor': 7186,\n",
       " 'c': 5261,\n",
       " 'already': 4629,\n",
       " 'Nah': 2948,\n",
       " 'dont': 6123,\n",
       " 'think': 10433,\n",
       " 'goes': 6877,\n",
       " 'usf': 10799,\n",
       " 'lives': 7842,\n",
       " 'around': 4777,\n",
       " 'though': 10450,\n",
       " 'FreeMsg': 1943,\n",
       " 'Hey': 2222,\n",
       " 'darling': 5864,\n",
       " '3': 543,\n",
       " 'weeks': 11011,\n",
       " 'word': 11150,\n",
       " 'back': 4893,\n",
       " 'Id': 2346,\n",
       " 'like': 7800,\n",
       " 'fun': 6755,\n",
       " 'still': 10093,\n",
       " 'Tb': 3930,\n",
       " 'ok': 8567,\n",
       " 'XxX': 4379,\n",
       " 'std': 10073,\n",
       " 'chgs': 5467,\n",
       " 'send': 9641,\n",
       " '£150': 11371,\n",
       " 'rcv': 9209,\n",
       " 'Even': 1802,\n",
       " 'brother': 5193,\n",
       " 'speak': 9971,\n",
       " 'treat': 10629,\n",
       " 'aids': 4590,\n",
       " 'patent': 8761,\n",
       " 'per': 8796,\n",
       " 'request': 9356,\n",
       " 'Melle': 2814,\n",
       " 'Oru': 3098,\n",
       " 'Minnaminunginte': 2833,\n",
       " 'Nurungu': 3023,\n",
       " 'Vettam': 4170,\n",
       " 'set': 9664,\n",
       " 'callertune': 5292,\n",
       " 'Callers': 1421,\n",
       " 'Press': 3278,\n",
       " '9': 909,\n",
       " 'copy': 5716,\n",
       " 'friends': 6719,\n",
       " 'Callertune': 1422,\n",
       " 'WINNER': 4221,\n",
       " 'valued': 10828,\n",
       " 'network': 8406,\n",
       " 'customer': 5820,\n",
       " 'selected': 9628,\n",
       " 'receivea': 9253,\n",
       " '£900': 11412,\n",
       " 'prize': 9058,\n",
       " 'reward': 9413,\n",
       " 'claim': 5519,\n",
       " 'call': 5275,\n",
       " '09061701461': 219,\n",
       " 'Claim': 1485,\n",
       " 'code': 5574,\n",
       " 'KL341': 2477,\n",
       " 'Valid': 4161,\n",
       " '12': 326,\n",
       " 'hours': 7201,\n",
       " 'mobile': 8216,\n",
       " '11': 315,\n",
       " 'months': 8251,\n",
       " 'R': 3321,\n",
       " 'entitled': 6328,\n",
       " 'Update': 4128,\n",
       " 'latest': 7716,\n",
       " 'colour': 5594,\n",
       " 'mobiles': 8217,\n",
       " 'camera': 5304,\n",
       " 'Call': 1417,\n",
       " 'Mobile': 2852,\n",
       " 'Co': 1492,\n",
       " 'FREE': 1865,\n",
       " '08002986030': 58,\n",
       " 'Im': 2352,\n",
       " 'gonna': 6890,\n",
       " 'home': 7159,\n",
       " 'soon': 9931,\n",
       " 'want': 10945,\n",
       " 'talk': 10303,\n",
       " 'stuff': 10153,\n",
       " 'anymore': 4701,\n",
       " 'tonight': 10557,\n",
       " 'k': 7561,\n",
       " 'Ive': 2394,\n",
       " 'cried': 5783,\n",
       " 'enough': 6319,\n",
       " 'today': 10524,\n",
       " 'SIX': 3495,\n",
       " 'chances': 5411,\n",
       " 'CASH': 1353,\n",
       " '100': 294,\n",
       " '20000': 427,\n",
       " 'pounds': 8975,\n",
       " 'CSH11': 1405,\n",
       " '87575': 875,\n",
       " 'Cost': 1524,\n",
       " '150pday': 364,\n",
       " '6days': 763,\n",
       " '16': 382,\n",
       " 'TsandCs': 4048,\n",
       " 'Reply': 3414,\n",
       " 'HL': 2139,\n",
       " '4': 605,\n",
       " 'info': 7354,\n",
       " 'URGENT': 4090,\n",
       " '1': 292,\n",
       " 'week': 11006,\n",
       " 'membership': 8110,\n",
       " '£100000': 11365,\n",
       " 'Prize': 3283,\n",
       " 'Jackpot': 2421,\n",
       " 'Txt': 4062,\n",
       " 'CLAIM': 1378,\n",
       " '81010': 821,\n",
       " 'TC': 3847,\n",
       " 'wwwdbuknet': 11231,\n",
       " 'LCCLTD': 2551,\n",
       " 'POBOX': 3138,\n",
       " '4403LDNW1A7RW18': 626,\n",
       " 'searching': 9597,\n",
       " 'right': 9422,\n",
       " 'words': 11154,\n",
       " 'thank': 10392,\n",
       " 'breather': 5166,\n",
       " 'promise': 9092,\n",
       " 'wont': 11145,\n",
       " 'take': 10295,\n",
       " 'help': 7089,\n",
       " 'granted': 6929,\n",
       " 'fulfil': 6751,\n",
       " 'wonderful': 11142,\n",
       " 'blessing': 5075,\n",
       " 'times': 10491,\n",
       " 'DATE': 1568,\n",
       " 'SUNDAY': 3567,\n",
       " 'XXXMobileMovieClub': 4370,\n",
       " 'use': 10793,\n",
       " 'credit': 5774,\n",
       " 'click': 5540,\n",
       " 'WAP': 4200,\n",
       " 'link': 7818,\n",
       " 'next': 8420,\n",
       " 'message': 8133,\n",
       " 'httpwap': 7224,\n",
       " 'xxxmobilemovieclubcomnQJKGIGHJJGCBL': 11273,\n",
       " 'Oh': 3059,\n",
       " 'kim': 7618,\n",
       " 'watching': 10970,\n",
       " 'Eh': 1769,\n",
       " 'remember': 9319,\n",
       " 'spell': 9985,\n",
       " 'name': 8348,\n",
       " 'Yes': 4425,\n",
       " 'v': 10816,\n",
       " 'naughty': 8368,\n",
       " 'make': 8000,\n",
       " 'wet': 11040,\n",
       " 'Fine': 1914,\n",
       " 'that\\x92s': 10405,\n",
       " 'way': 10979,\n",
       " 'feel': 6517,\n",
       " 'That\\x92s': 3964,\n",
       " 'gota': 6907,\n",
       " 'b': 4880,\n",
       " 'England': 1784,\n",
       " 'Macedonia': 2772,\n",
       " 'miss': 8191,\n",
       " 'goalsteam': 6870,\n",
       " 'news': 8415,\n",
       " 'ur': 10777,\n",
       " 'national': 8362,\n",
       " 'team': 10338,\n",
       " '87077': 870,\n",
       " 'eg': 6258,\n",
       " 'ENGLAND': 1728,\n",
       " 'TryWALES': 4042,\n",
       " 'SCOTLAND': 3460,\n",
       " '4txtú120': 677,\n",
       " 'POBOXox36504W45WQ': 3141,\n",
       " 'seriously': 9658,\n",
       " 'I‘m': 2401,\n",
       " 'going': 6882,\n",
       " 'try': 10655,\n",
       " 'ha': 6992,\n",
       " 'joking': 7534,\n",
       " 'ü': 11418,\n",
       " 'pay': 8769,\n",
       " 'first': 6584,\n",
       " 'da': 5832,\n",
       " 'stock': 10097,\n",
       " 'comin': 5609,\n",
       " 'Aft': 1019,\n",
       " 'finish': 6570,\n",
       " 'lunch': 7947,\n",
       " 'go': 6864,\n",
       " 'str': 10117,\n",
       " 'lor': 7888,\n",
       " 'Ard': 1084,\n",
       " 'smth': 9881,\n",
       " 'Ffffffffff': 1905,\n",
       " 'Alright': 1053,\n",
       " 'meet': 8092,\n",
       " 'sooner': 9932,\n",
       " 'forced': 6655,\n",
       " 'eat': 6234,\n",
       " 'slice': 9836,\n",
       " 'really': 9234,\n",
       " 'hungry': 7249,\n",
       " 'tho': 10446,\n",
       " 'sucks': 10186,\n",
       " 'Mark': 2794,\n",
       " 'getting': 6832,\n",
       " 'worried': 11169,\n",
       " 'knows': 7643,\n",
       " 'sick': 9764,\n",
       " 'turn': 10672,\n",
       " 'pizza': 8869,\n",
       " 'Lol': 2648,\n",
       " 'always': 4641,\n",
       " 'convincing': 5703,\n",
       " 'catch': 5374,\n",
       " 'bus': 5237,\n",
       " 'frying': 6741,\n",
       " 'egg': 6260,\n",
       " 'tea': 10332,\n",
       " 'eating': 6237,\n",
       " 'moms': 8235,\n",
       " 'left': 7748,\n",
       " 'dinner': 6045,\n",
       " 'Love': 2661,\n",
       " 'amp': 4655,\n",
       " 'packing': 8693,\n",
       " 'car': 5331,\n",
       " 'Ill': 2350,\n",
       " 'let': 7769,\n",
       " 'know': 7639,\n",
       " 'theres': 10421,\n",
       " 'room': 9460,\n",
       " 'Ahhh': 1028,\n",
       " 'Work': 4345,\n",
       " 'vaguely': 10819,\n",
       " 'Wait': 4256,\n",
       " 'thats': 10404,\n",
       " 'clear': 5534,\n",
       " 'sure': 10237,\n",
       " 'sarcastic': 9536,\n",
       " 'x': 11260,\n",
       " 'doesnt': 6099,\n",
       " 'live': 7839,\n",
       " 'us': 10787,\n",
       " 'Yeah': 4416,\n",
       " 'apologetic': 4719,\n",
       " 'fallen': 6468,\n",
       " 'actin': 4509,\n",
       " 'spoilt': 10005,\n",
       " 'child': 5483,\n",
       " 'caught': 5378,\n",
       " 'Till': 3997,\n",
       " 'badly': 4898,\n",
       " 'cheers': 5450,\n",
       " 'K': 2468,\n",
       " 'tell': 10354,\n",
       " 'anything': 4707,\n",
       " 'fear': 6509,\n",
       " 'fainting': 6459,\n",
       " 'housework': 7205,\n",
       " 'Quick': 3316,\n",
       " 'cuppa': 5810,\n",
       " 'Thanks': 3958,\n",
       " 'subscription': 10176,\n",
       " 'Ringtone': 3424,\n",
       " 'UK': 4074,\n",
       " 'charged': 5423,\n",
       " '£5month': 11404,\n",
       " 'Please': 3235,\n",
       " 'confirm': 5661,\n",
       " 'replying': 9351,\n",
       " 'YES': 4388,\n",
       " 'reply': 9349,\n",
       " 'Yup': 4450,\n",
       " 'look': 7880,\n",
       " 'timings': 10497,\n",
       " 'msg': 8283,\n",
       " 'Xuhui': 4377,\n",
       " 'learn': 7737,\n",
       " '2nd': 526,\n",
       " 'may': 8065,\n",
       " 'lesson': 7767,\n",
       " '8am': 903,\n",
       " 'Oops': 3085,\n",
       " 'roommates': 9463,\n",
       " 'done': 6120,\n",
       " 'see': 9613,\n",
       " 'letter': 7771,\n",
       " 'B': 1120,\n",
       " 'Anything': 1070,\n",
       " 'decide': 5915,\n",
       " 'Hello': 2209,\n",
       " 'Hows': 2279,\n",
       " 'saturday': 9546,\n",
       " 'texting': 10383,\n",
       " 'youd': 11318,\n",
       " 'decided': 5916,\n",
       " 'tomo': 10546,\n",
       " 'im': 7307,\n",
       " 'trying': 10657,\n",
       " 'invite': 7410,\n",
       " 'Pls': 3237,\n",
       " 'ahead': 4582,\n",
       " 'watts': 10977,\n",
       " 'wanted': 10947,\n",
       " 'weekend': 11008,\n",
       " 'Abiola': 999,\n",
       " 'forget': 6661,\n",
       " 'need': 8386,\n",
       " 'crave': 5766,\n",
       " 'love': 7913,\n",
       " 'sweet': 10261,\n",
       " 'Arabian': 1082,\n",
       " 'steed': 10079,\n",
       " 'Mmmmmm': 2846,\n",
       " 'Yummy': 4447,\n",
       " '07732584351': 29,\n",
       " 'Rodger': 3430,\n",
       " 'Burns': 1329,\n",
       " 'MSG': 2757,\n",
       " 'tried': 10638,\n",
       " 'sms': 9876,\n",
       " 'free': 6699,\n",
       " 'nokia': 8455,\n",
       " 'camcorder': 5302,\n",
       " '08000930705': 54,\n",
       " 'delivery': 5950,\n",
       " 'tomorrow': 10549,\n",
       " 'SEEING': 3464,\n",
       " 'Great': 2088,\n",
       " 'hope': 7177,\n",
       " 'man': 8009,\n",
       " 'well': 11023,\n",
       " 'endowed': 6303,\n",
       " 'ltgt': 7939,\n",
       " 'inches': 7333,\n",
       " 'callsmessagesmissed': 5298,\n",
       " 'calls': 5297,\n",
       " 'Didnt': 1663,\n",
       " 'get': 6824,\n",
       " 'hep': 7098,\n",
       " 'immunisation': 7315,\n",
       " 'nigeria': 8427,\n",
       " 'Fair': 1893,\n",
       " 'hopefully': 7182,\n",
       " 'tyler': 10692,\n",
       " 'cant': 5320,\n",
       " 'could': 5738,\n",
       " 'maybe': 8067,\n",
       " 'ask': 4799,\n",
       " 'bit': 5053,\n",
       " 'stubborn': 10143,\n",
       " 'didnt': 6014,\n",
       " 'even': 6369,\n",
       " 'hospital': 7192,\n",
       " 'kept': 7594,\n",
       " 'telling': 10355,\n",
       " 'weak': 10983,\n",
       " 'sucker': 10184,\n",
       " 'Hospitals': 2271,\n",
       " 'suckers': 10185,\n",
       " 'thinked': 10435,\n",
       " 'First': 1918,\n",
       " 'time': 10487,\n",
       " 'saw': 9553,\n",
       " 'class': 5527,\n",
       " 'gram': 6923,\n",
       " 'usually': 10805,\n",
       " 'runs': 9495,\n",
       " 'half': 7004,\n",
       " 'eighth': 6267,\n",
       " 'smarter': 9858,\n",
       " 'gets': 6828,\n",
       " 'almost': 4625,\n",
       " 'whole': 11063,\n",
       " 'second': 9601,\n",
       " 'fyi': 6768,\n",
       " 'ride': 9421,\n",
       " 'morning': 8256,\n",
       " 'hes': 7109,\n",
       " 'crashing': 5765,\n",
       " 'place': 8870,\n",
       " 'Wow': 4352,\n",
       " 'never': 8410,\n",
       " 'realized': 9232,\n",
       " 'embarassed': 6287,\n",
       " 'accomodations': 4492,\n",
       " 'thought': 10451,\n",
       " 'liked': 7801,\n",
       " 'since': 9788,\n",
       " 'best': 5014,\n",
       " 'seemed': 9619,\n",
       " 'happy': 7035,\n",
       " 'cave': 5382,\n",
       " 'sorry': 9941,\n",
       " 'give': 6850,\n",
       " 'offered': 8547,\n",
       " 'embarassing': 6288,\n",
       " 'SMS': 3506,\n",
       " 'ac': 4478,\n",
       " 'Sptv': 3762,\n",
       " 'New': 2968,\n",
       " 'Jersey': 2441,\n",
       " 'Devils': 1657,\n",
       " 'Detroit': 1656,\n",
       " 'Red': 3394,\n",
       " 'Wings': 4322,\n",
       " 'play': 8884,\n",
       " 'Ice': 2344,\n",
       " 'Hockey': 2249,\n",
       " 'Correct': 1522,\n",
       " 'Incorrect': 2360,\n",
       " 'End': 1782,\n",
       " 'END': 1726,\n",
       " 'SPTV': 3538,\n",
       " 'Mallika': 2784,\n",
       " 'Sherawat': 3653,\n",
       " 'yesterday': 11299,\n",
       " 'Find': 1913,\n",
       " 'ltURLgt': 7938,\n",
       " 'Congrats': 1513,\n",
       " 'year': 11290,\n",
       " 'special': 9973,\n",
       " 'cinema': 5515,\n",
       " 'pass': 8750,\n",
       " '09061209465': 214,\n",
       " 'C': 1337,\n",
       " 'Suprman': 3821,\n",
       " 'V': 4145,\n",
       " 'Matrix3': 2801,\n",
       " 'StarWars3': 3771,\n",
       " 'etc': 6359,\n",
       " 'bx420ip45we': 5256,\n",
       " '150pm': 365,\n",
       " 'Dont': 1694,\n",
       " 'Sorry': 3735,\n",
       " 'later': 7714,\n",
       " 'meeting': 8094,\n",
       " 'Tell': 3942,\n",
       " 'reached': 9216,\n",
       " 'Yesgauti': 4428,\n",
       " 'sehwag': 9625,\n",
       " 'odi': 8541,\n",
       " 'series': 9656,\n",
       " 'pick': 8844,\n",
       " 'burger': 5229,\n",
       " 'move': 8270,\n",
       " 'Pain': 3180,\n",
       " 'killing': 7615,\n",
       " 'Ha': 2168,\n",
       " 'good': 6892,\n",
       " 'joke': 7529,\n",
       " 'Girls': 2055,\n",
       " 'situation': 9808,\n",
       " 'seekers': 9616,\n",
       " 'part': 8739,\n",
       " 'checking': 5447,\n",
       " 'IQ': 2329,\n",
       " 'took': 10566,\n",
       " 'forever': 6658,\n",
       " 'come': 5601,\n",
       " 'double': 6134,\n",
       " 'check': 5444,\n",
       " 'hair': 7001,\n",
       " 'dresser': 6162,\n",
       " 'said': 9512,\n",
       " 'wun': 11208,\n",
       " 'cut': 5823,\n",
       " 'short': 9730,\n",
       " 'nice': 8423,\n",
       " 'pleased': 8895,\n",
       " 'advise': 4547,\n",
       " 'following': 6639,\n",
       " 'recent': 9256,\n",
       " 'review': 9411,\n",
       " 'Mob': 2849,\n",
       " 'awarded': 4873,\n",
       " '£1500': 11372,\n",
       " 'Bonus': 1282,\n",
       " '09066364589': 263,\n",
       " 'Today': 4011,\n",
       " 'song': 9927,\n",
       " 'dedicated': 5925,\n",
       " 'day': 5881,\n",
       " 'dedicate': 5924,\n",
       " 'Send': 3623,\n",
       " 'valuable': 10825,\n",
       " 'frnds': 6728,\n",
       " 'rply': 9476,\n",
       " 'Urgent': 4135,\n",
       " 'UR': 4087,\n",
       " 'complimentary': 5636,\n",
       " 'trip': 10639,\n",
       " 'EuroDisinc': 1799,\n",
       " 'Trav': 4032,\n",
       " 'AcoEntry41': 1008,\n",
       " '£1000': 11363,\n",
       " 'DIS': 1587,\n",
       " '186£150moreFrmMob': 391,\n",
       " 'ShrAcomOrSglSuplt10': 3673,\n",
       " 'LS1': 2589,\n",
       " '3AJ': 576,\n",
       " 'hear': 7066,\n",
       " 'new': 8413,\n",
       " 'Divorce': 1679,\n",
       " 'Barbie': 1225,\n",
       " 'comes': 5605,\n",
       " 'Kens': 2497,\n",
       " 'plane': 8877,\n",
       " 'month': 8248,\n",
       " 'end': 6298,\n",
       " 'Wah': 4254,\n",
       " 'lucky': 7944,\n",
       " 'save': 9549,\n",
       " 'money': 8241,\n",
       " 'Hee': 2203,\n",
       " 'Finished': 1917,\n",
       " 'HI': 2135,\n",
       " 'BABE': 1124,\n",
       " 'IM': 2308,\n",
       " 'HOME': 2145,\n",
       " 'WANNA': 4197,\n",
       " 'SOMETHING': 3515,\n",
       " 'XX': 4367,\n",
       " 'Kkwhere': 2527,\n",
       " 'youhow': 11321,\n",
       " 'performed': 8803,\n",
       " 'waiting': 10924,\n",
       " 'machan': 7969,\n",
       " 'Thats': 3963,\n",
       " 'cool': 5709,\n",
       " 'gentleman': 6818,\n",
       " 'dignity': 6036,\n",
       " 'respect': 9377,\n",
       " 'peoples': 8795,\n",
       " 'much': 8299,\n",
       " 'shy': 9760,\n",
       " 'pa': 8688,\n",
       " 'operate': 8606,\n",
       " 'Still': 3783,\n",
       " 'looking': 7883,\n",
       " 'job': 7516,\n",
       " 'Tas': 3927,\n",
       " 'earn': 6223,\n",
       " 'ah': 4580,\n",
       " 'hi': 7116,\n",
       " 'stop': 10106,\n",
       " 'urgnt': 10782,\n",
       " 'real': 9226,\n",
       " 'yo': 11308,\n",
       " 'tickets': 10478,\n",
       " 'one': 8586,\n",
       " 'jacket': 7477,\n",
       " 'used': 10794,\n",
       " 'multis': 8307,\n",
       " 'started': 10054,\n",
       " 'requests': 9357,\n",
       " 'pain': 8700,\n",
       " 'came': 5303,\n",
       " 'bed': 4973,\n",
       " 'Double': 1700,\n",
       " 'coins': 5580,\n",
       " 'factory': 6451,\n",
       " 'gotta': 6910,\n",
       " 'cash': 5363,\n",
       " 'nitros': 8445,\n",
       " 'babe': 4885,\n",
       " 'Ela': 1772,\n",
       " 'kanoil': 7577,\n",
       " 'download': 6140,\n",
       " 'wen': 11028,\n",
       " 'Don‘t': 1697,\n",
       " 'stand': 10043,\n",
       " 'close': 5546,\n",
       " 'you‘ll': 11338,\n",
       " 'something': 9915,\n",
       " 'another': 4686,\n",
       " 'night': 8428,\n",
       " 'spent': 9990,\n",
       " 'late': 7709,\n",
       " 'afternoon': 4563,\n",
       " 'casualty': 5372,\n",
       " 'means': 8083,\n",
       " 'havent': 7051,\n",
       " 'stuff42moro': 10154,\n",
       " 'includes': 7336,\n",
       " 'sheets': 9699,\n",
       " 'Smile': 3713,\n",
       " 'Pleasure': 3236,\n",
       " 'trouble': 10644,\n",
       " 'pours': 8977,\n",
       " 'Rain': 3368,\n",
       " 'sum1': 10204,\n",
       " 'Hurts': 2289,\n",
       " 'becoz': 4971,\n",
       " 'SOMEONE': 3513,\n",
       " 'Loves': 2667,\n",
       " 'Smiling': 3715,\n",
       " 'service': 9661,\n",
       " 'representative': 9354,\n",
       " '0800': 50,\n",
       " '169': 384,\n",
       " '6031': 726,\n",
       " '10am9pm': 309,\n",
       " 'guaranteed': 6969,\n",
       " '£5000': 11399,\n",
       " 'Havent': 2194,\n",
       " 'planning': 8881,\n",
       " 'buy': 5248,\n",
       " 'lido': 7783,\n",
       " '530': 697,\n",
       " 'show': 9744,\n",
       " 'work': 11155,\n",
       " 'ringtone': 9429,\n",
       " 'collected': 5587,\n",
       " 'Simply': 3683,\n",
       " 'text': 10378,\n",
       " 'password': 8758,\n",
       " 'MIX': 2732,\n",
       " '85069': 856,\n",
       " 'verify': 10846,\n",
       " 'Get': 2047,\n",
       " 'Usher': 4140,\n",
       " 'Britney': 1315,\n",
       " 'FML': 1857,\n",
       " 'PO': 3136,\n",
       " 'Box': 1292,\n",
       " '5249': 694,\n",
       " 'MK17': 2733,\n",
       " '92H': 914,\n",
       " '450Ppw': 636,\n",
       " 'Watching': 4277,\n",
       " 'telugu': 10359,\n",
       " 'moviewat': 8275,\n",
       " 'abt': 4474,\n",
       " 'loads': 7850,\n",
       " 'loans': 7852,\n",
       " 'Hi': 2225,\n",
       " 'Wk': 4331,\n",
       " 'hols': 7157,\n",
       " 'run': 9492,\n",
       " 'Forgot': 1934,\n",
       " 'hairdressers': 7003,\n",
       " 'appointment': 4735,\n",
       " 'four': 6685,\n",
       " 'shower': 9746,\n",
       " 'beforehand': 4985,\n",
       " 'cause': 5379,\n",
       " 'prob': 9062,\n",
       " 'cup': 5808,\n",
       " 'coffee': 5575,\n",
       " 'animation': 4673,\n",
       " 'nothing': 8480,\n",
       " 'else': 6282,\n",
       " 'Okay': 3065,\n",
       " 'price': 9038,\n",
       " 'long': 7876,\n",
       " 'legal': 7751,\n",
       " 'Wen': 4295,\n",
       " 'ave': 4861,\n",
       " 'ams': 4657,\n",
       " 'xx': 11270,\n",
       " 'gone': 6888,\n",
       " '4the': 675,\n",
       " 'driving': 6171,\n",
       " 'test': 10374,\n",
       " 'yet': 11300,\n",
       " 'wow': 11184,\n",
       " 'Youre': 4443,\n",
       " 'mean': 8079,\n",
       " 'guess': 6973,\n",
       " 'gave': 6799,\n",
       " 'boston': 5126,\n",
       " 'men': 8115,\n",
       " 'changed': 5413,\n",
       " 'search': 9596,\n",
       " 'location': 7855,\n",
       " 'nyc': 8519,\n",
       " 'Cuz': 1560,\n",
       " 'signin': 9774,\n",
       " 'page': 8696,\n",
       " 'says': 9559,\n",
       " 'Umma': 4110,\n",
       " 'life': 7786,\n",
       " 'vava': 10836,\n",
       " 'umma': 10711,\n",
       " 'lot': 7897,\n",
       " 'dear': 5902,\n",
       " 'wishes': 11104,\n",
       " 'birthday': 5051,\n",
       " 'making': 8004,\n",
       " 'truly': 10651,\n",
       " 'memorable': 8112,\n",
       " 'Aight': 1031,\n",
       " 'hit': 7135,\n",
       " 'would': 11180,\n",
       " 'ip': 7418,\n",
       " 'address': 4524,\n",
       " 'considering': 5678,\n",
       " 'computer': 5642,\n",
       " 'isnt': 7440,\n",
       " 'minecraft': 8170,\n",
       " 'server': 9660,\n",
       " 'Grumpy': 2092,\n",
       " 'old': 8580,\n",
       " 'people': 8794,\n",
       " 'mom': 8232,\n",
       " 'better': 5020,\n",
       " 'lying': 7960,\n",
       " 'jokes': 7531,\n",
       " 'worry': 11171,\n",
       " 'busy': 5243,\n",
       " 'plural': 8905,\n",
       " 'noun': 8487,\n",
       " 'research': 9363,\n",
       " 'Going': 2066,\n",
       " 'dinnermsg': 6046,\n",
       " 'cos': 5727,\n",
       " 'things': 10432,\n",
       " 'scared': 9565,\n",
       " 'mah': 7990,\n",
       " 'Cos': 1523,\n",
       " 'loud': 7908,\n",
       " 'GENT': 1979,\n",
       " 'contact': 5683,\n",
       " 'Last': 2607,\n",
       " 'weekends': 11009,\n",
       " 'draw': 6150,\n",
       " 'shows': 9751,\n",
       " 'GUARANTEED': 2022,\n",
       " '09064012160': 238,\n",
       " 'Code': 1494,\n",
       " 'K52': 2469,\n",
       " '12hrs': 338,\n",
       " '150ppm': 370,\n",
       " 'Wa': 4252,\n",
       " 'openin': 8603,\n",
       " 'sentence': 9650,\n",
       " 'formal': 6669,\n",
       " 'Anyway': 1072,\n",
       " 'fine': 6565,\n",
       " 'juz': 7560,\n",
       " 'tt': 10661,\n",
       " 'eatin': 6236,\n",
       " 'puttin': 9143,\n",
       " 'weightHaha': 11016,\n",
       " 'anythin': 4706,\n",
       " 'happened': 7027,\n",
       " 'entered': 6321,\n",
       " 'cabin': 5263,\n",
       " 'PA': 3104,\n",
       " 'Happy': 2186,\n",
       " 'Bday': 1232,\n",
       " 'Boss': 1290,\n",
       " 'felt': 6526,\n",
       " 'askd': 4800,\n",
       " 'invited': 7411,\n",
       " 'apartment': 4715,\n",
       " 'went': 11030,\n",
       " 'winner': 11094,\n",
       " 'specially': 9977,\n",
       " 'holiday': 7153,\n",
       " 'flights': 6609,\n",
       " 'inc': 7331,\n",
       " 'operator': 8607,\n",
       " '0871277810910pmin': 123,\n",
       " '18': 387,\n",
       " 'Goodo': 2075,\n",
       " 'must': 8324,\n",
       " 'friday': 6712,\n",
       " 'eggpotato': 6261,\n",
       " 'ratio': 9203,\n",
       " 'tortilla': 10583,\n",
       " 'needed': 8388,\n",
       " 'Hmmmy': 2246,\n",
       " 'uncle': 10716,\n",
       " 'informed': 7358,\n",
       " 'paying': 8773,\n",
       " 'school': 9571,\n",
       " 'directly': 6050,\n",
       " 'pls': 8901,\n",
       " 'food': 6645,\n",
       " 'PRIVATE': 3166,\n",
       " '2004': 429,\n",
       " 'Account': 1004,\n",
       " 'Statement': 3776,\n",
       " '07742676969': 31,\n",
       " '786': 788,\n",
       " 'unredeemed': 10754,\n",
       " 'Points': 3251,\n",
       " '08719180248': 171,\n",
       " 'Identifier': 2348,\n",
       " '45239': 639,\n",
       " 'Expires': 1825,\n",
       " '£2000': 11384,\n",
       " 'Caller': 1420,\n",
       " '5903': 702,\n",
       " 'Landline': 2602,\n",
       " '09064019788': 244,\n",
       " 'BOX42WR29C': 1185,\n",
       " '150PPM': 355,\n",
       " 'applespairsall': 4729,\n",
       " 'malarky': 8006,\n",
       " 'Todays': 4012,\n",
       " 'Voda': 4179,\n",
       " 'numbers': 8510,\n",
       " 'ending': 6300,\n",
       " '7548': 783,\n",
       " '350': 566,\n",
       " 'award': 4872,\n",
       " 'match': 8046,\n",
       " 'please': 8894,\n",
       " '08712300220': 105,\n",
       " 'quoting': 9170,\n",
       " '4041': 610,\n",
       " 'standard': 10044,\n",
       " 'rates': 9201,\n",
       " 'app': 4723,\n",
       " 'sao': 9531,\n",
       " 'mu': 8298,\n",
       " 'Ü': 11415,\n",
       " 'predict': 9005,\n",
       " 'üll': 11419,\n",
       " 'buying': 5251,\n",
       " 'Good': 2070,\n",
       " 'knowyetunde': 7646,\n",
       " 'hasnt': 7042,\n",
       " 'sent': 9649,\n",
       " 'bother': 5128,\n",
       " 'sending': 9642,\n",
       " 'involve': 7415,\n",
       " 'shouldnt': 9738,\n",
       " 'imposed': 7321,\n",
       " 'apologise': 4720,\n",
       " 'HEY': 2131,\n",
       " 'GIRL': 1985,\n",
       " 'HOPE': 2149,\n",
       " 'WELL': 4207,\n",
       " 'DEL': 1580,\n",
       " 'BAK': 1134,\n",
       " 'LONG': 2575,\n",
       " 'TIME': 3883,\n",
       " 'GIVE': 1988,\n",
       " 'CALL': 1341,\n",
       " 'SUM': 3564,\n",
       " 'LUCYxx': 2595,\n",
       " 'Kkhow': 2521,\n",
       " 'cost': 5729,\n",
       " 'Dear': 1634,\n",
       " 'Tmorrowpls': 4005,\n",
       " 'accomodate': 4491,\n",
       " 'answer': 4689,\n",
       " 'question': 9156,\n",
       " 'Sunshine': 3817,\n",
       " 'Quiz': 3318,\n",
       " 'Wkly': 4332,\n",
       " 'Q': 3304,\n",
       " 'Win': 4320,\n",
       " 'top': 10574,\n",
       " 'Sony': 3732,\n",
       " 'DVD': 1614,\n",
       " 'player': 8886,\n",
       " 'country': 5744,\n",
       " 'Algarve': 1047,\n",
       " 'ansr': 4688,\n",
       " '82277': 827,\n",
       " 'SPTyrone': 3539,\n",
       " 'Want': 4267,\n",
       " 'laid': 7681,\n",
       " 'Dogging': 1688,\n",
       " 'locations': 7856,\n",
       " 'direct': 6049,\n",
       " 'mob': 8215,\n",
       " 'Join': 2447,\n",
       " 'UKs': 4077,\n",
       " 'largest': 7703,\n",
       " 'Network': 2963,\n",
       " 'bt': 5207,\n",
       " 'Txting': 4065,\n",
       " 'GRAVEL': 2018,\n",
       " '69888': 752,\n",
       " 'Nt': 3020,\n",
       " 'ec2a': 6239,\n",
       " '31pmsg150p': 559,\n",
       " 'haf': 6997,\n",
       " 'msn': 8293,\n",
       " 'yijuehotmailcom': 11306,\n",
       " 'rooms': 9464,\n",
       " 'befor': 4984,\n",
       " 'activities': 4514,\n",
       " 'Youll': 4442,\n",
       " 'msgs': 8286,\n",
       " 'chat': 5435,\n",
       " 'svc': 10252,\n",
       " 'Hardcore': 2188,\n",
       " 'services': 9662,\n",
       " 'GO': 1993,\n",
       " '69988': 756,\n",
       " 'Age': 1025,\n",
       " 'Verify': 4169,\n",
       " 'yr': 11341,\n",
       " 'Got': 2080,\n",
       " 'lazy': 7731,\n",
       " 'type': 10694,\n",
       " 'forgot': 6666,\n",
       " 'lect': 7745,\n",
       " 'pouch': 8972,\n",
       " 'youre': 11329,\n",
       " 'Sir': 3690,\n",
       " 'Waiting': 4259,\n",
       " 'mail': 7993,\n",
       " 'swt': 10273,\n",
       " 'Nver': 3025,\n",
       " 'tired': 10501,\n",
       " 'little': 7838,\n",
       " 'lovable': 7912,\n",
       " 'persons': 8817,\n",
       " 'Cozsomtimes': 1532,\n",
       " 'occupy': 8535,\n",
       " 'biggest': 5035,\n",
       " 'Hearts': 2202,\n",
       " 'Gud': 2096,\n",
       " 'ni8': 8421,\n",
       " 'open': 8600,\n",
       " 'ya': 11279,\n",
       " 'dot': 6133,\n",
       " 'Whats': 4304,\n",
       " 'staff': 10034,\n",
       " 'taking': 10300,\n",
       " 'replied': 9347,\n",
       " 'Randy': 3375,\n",
       " 'sexy': 9676,\n",
       " 'female': 6527,\n",
       " 'local': 7854,\n",
       " 'Luv': 2680,\n",
       " 'Netcollex': 2962,\n",
       " ...}"
      ]
     },
     "execution_count": 89,
     "metadata": {},
     "output_type": "execute_result"
    }
   ],
   "source": [
    "bow_tf.vocabulary_"
   ]
  },
  {
   "cell_type": "code",
   "execution_count": 91,
   "id": "c42ce537",
   "metadata": {},
   "outputs": [
    {
     "data": {
      "text/plain": [
       "11425"
      ]
     },
     "execution_count": 91,
     "metadata": {},
     "output_type": "execute_result"
    }
   ],
   "source": [
    "len(bow_tf.vocabulary_)"
   ]
  },
  {
   "cell_type": "code",
   "execution_count": 92,
   "id": "1d8a203c",
   "metadata": {},
   "outputs": [],
   "source": [
    "sample_context = contexts['context'][2]"
   ]
  },
  {
   "cell_type": "code",
   "execution_count": 93,
   "id": "47212f06",
   "metadata": {},
   "outputs": [
    {
     "data": {
      "text/plain": [
       "\"Free entry in 2 a wkly comp to win FA Cup final tkts 21st May 2005. Text FA to 87121 to receive entry question(std txt rate)T&C's apply 08452810075over18's\""
      ]
     },
     "execution_count": 93,
     "metadata": {},
     "output_type": "execute_result"
    }
   ],
   "source": [
    "sample_context"
   ]
  },
  {
   "cell_type": "code",
   "execution_count": 118,
   "id": "bc49f0bb",
   "metadata": {},
   "outputs": [],
   "source": [
    "# encode document\n",
    "sample_bow = bow_tf.transform([sample_context])"
   ]
  },
  {
   "cell_type": "code",
   "execution_count": 119,
   "id": "f2435771",
   "metadata": {},
   "outputs": [
    {
     "name": "stdout",
     "output_type": "stream",
     "text": [
      "  (0, 73)\t1\n",
      "  (0, 423)\t1\n",
      "  (0, 430)\t1\n",
      "  (0, 443)\t1\n",
      "  (0, 871)\t1\n",
      "  (0, 1551)\t1\n",
      "  (0, 1833)\t2\n",
      "  (0, 1941)\t1\n",
      "  (0, 2804)\t1\n",
      "  (0, 3953)\t1\n",
      "  (0, 4731)\t1\n",
      "  (0, 5619)\t1\n",
      "  (0, 6331)\t2\n",
      "  (0, 6557)\t1\n",
      "  (0, 9159)\t1\n",
      "  (0, 9200)\t1\n",
      "  (0, 9252)\t1\n",
      "  (0, 10512)\t1\n",
      "  (0, 10686)\t1\n",
      "  (0, 11084)\t1\n",
      "  (0, 11123)\t1\n"
     ]
    }
   ],
   "source": [
    "print(sample_bow)"
   ]
  },
  {
   "cell_type": "code",
   "execution_count": 120,
   "id": "99c68cc1",
   "metadata": {},
   "outputs": [
    {
     "data": {
      "text/plain": [
       "(1, 11425)"
      ]
     },
     "execution_count": 120,
     "metadata": {},
     "output_type": "execute_result"
    }
   ],
   "source": [
    "sample_bow.shape"
   ]
  },
  {
   "cell_type": "code",
   "execution_count": 121,
   "id": "6425a9f0",
   "metadata": {},
   "outputs": [
    {
     "data": {
      "text/plain": [
       "'FA'"
      ]
     },
     "execution_count": 121,
     "metadata": {},
     "output_type": "execute_result"
    }
   ],
   "source": [
    "bow_tf.get_feature_names_out()[1833]"
   ]
  },
  {
   "cell_type": "code",
   "execution_count": 107,
   "id": "dd26a45d",
   "metadata": {},
   "outputs": [],
   "source": [
    "bow_contexts = bow_tf.transform(contexts['context'])"
   ]
  },
  {
   "cell_type": "code",
   "execution_count": 108,
   "id": "b8a93c8b",
   "metadata": {},
   "outputs": [
    {
     "name": "stdout",
     "output_type": "stream",
     "text": [
      "(5572, 11425)\n"
     ]
    }
   ],
   "source": [
    "print(bow_contexts.shape)"
   ]
  },
  {
   "cell_type": "code",
   "execution_count": 155,
   "id": "b5c86e3b",
   "metadata": {},
   "outputs": [],
   "source": [
    "# non zero occurrence\n",
    "non_zero_occurrence = bow_contexts.nnz"
   ]
  },
  {
   "cell_type": "code",
   "execution_count": 156,
   "id": "1200ecde",
   "metadata": {},
   "outputs": [],
   "source": [
    "# sparsity\n",
    "sparsity = 1.0 - (non_zero_occurrence / (bow_contexts.shape[0] * bow_contexts.shape[1]))"
   ]
  },
  {
   "cell_type": "code",
   "execution_count": 157,
   "id": "f4d4dc8d",
   "metadata": {},
   "outputs": [
    {
     "data": {
      "text/plain": [
       "0.9992059704587332"
      ]
     },
     "execution_count": 157,
     "metadata": {},
     "output_type": "execute_result"
    }
   ],
   "source": [
    "sparsity"
   ]
  },
  {
   "cell_type": "markdown",
   "id": "cf06151b",
   "metadata": {},
   "source": [
    "# TFIDF"
   ]
  },
  {
   "cell_type": "code",
   "execution_count": 116,
   "id": "309a448f",
   "metadata": {},
   "outputs": [],
   "source": [
    "from sklearn.feature_extraction.text import TfidfTransformer"
   ]
  },
  {
   "cell_type": "code",
   "execution_count": 117,
   "id": "60d8023b",
   "metadata": {},
   "outputs": [],
   "source": [
    "tfidf_tf = TfidfTransformer().fit(bow_contexts)"
   ]
  },
  {
   "cell_type": "code",
   "execution_count": 122,
   "id": "773613d5",
   "metadata": {},
   "outputs": [],
   "source": [
    "sample_tfidf = tfidf_tf.transform(sample_bow)"
   ]
  },
  {
   "cell_type": "code",
   "execution_count": 125,
   "id": "9af93e02",
   "metadata": {},
   "outputs": [
    {
     "name": "stdout",
     "output_type": "stream",
     "text": [
      "  (0, 11123)\t0.19104387220509106\n",
      "  (0, 11084)\t0.15898145347176754\n",
      "  (0, 10686)\t0.13995540820792943\n",
      "  (0, 10512)\t0.2118842499614227\n",
      "  (0, 9252)\t0.16121646071144807\n",
      "  (0, 9200)\t0.22538631044314436\n",
      "  (0, 9159)\t0.22538631044314436\n",
      "  (0, 6557)\t0.18466951562322612\n",
      "  (0, 6331)\t0.347904654589528\n",
      "  (0, 5619)\t0.1887440015250524\n",
      "  (0, 4731)\t0.16452475271486866\n",
      "  (0, 3953)\t0.1544015632869991\n",
      "  (0, 2804)\t0.17524194104333074\n",
      "  (0, 1941)\t0.1526581729225716\n",
      "  (0, 1833)\t0.4507726208862887\n",
      "  (0, 1551)\t0.2177823443125605\n",
      "  (0, 871)\t0.2118842499614227\n",
      "  (0, 443)\t0.2177823443125605\n",
      "  (0, 430)\t0.2177823443125605\n",
      "  (0, 423)\t0.09639170919810956\n",
      "  (0, 73)\t0.22538631044314436\n"
     ]
    }
   ],
   "source": [
    "# get the weight of word\n",
    "print(sample_tfidf)"
   ]
  },
  {
   "cell_type": "code",
   "execution_count": 128,
   "id": "b887eecc",
   "metadata": {},
   "outputs": [
    {
     "data": {
      "text/plain": [
       "8.527076498901426"
      ]
     },
     "execution_count": 128,
     "metadata": {},
     "output_type": "execute_result"
    }
   ],
   "source": [
    "tfidf_tf.idf_[bow_tf.vocabulary_['FA']]"
   ]
  },
  {
   "cell_type": "code",
   "execution_count": 129,
   "id": "873a4435",
   "metadata": {},
   "outputs": [],
   "source": [
    "contexts_tfidf = tfidf_tf.transform(bow_contexts)"
   ]
  },
  {
   "cell_type": "markdown",
   "id": "22940f18",
   "metadata": {},
   "source": [
    "# Classifier"
   ]
  },
  {
   "cell_type": "code",
   "execution_count": 130,
   "id": "d46c9dba",
   "metadata": {},
   "outputs": [],
   "source": [
    "from sklearn.naive_bayes import MultinomialNB"
   ]
  },
  {
   "cell_type": "code",
   "execution_count": 132,
   "id": "137fb570",
   "metadata": {},
   "outputs": [],
   "source": [
    "spam_detector = MultinomialNB().fit(contexts_tfidf, contexts['label'])"
   ]
  },
  {
   "cell_type": "code",
   "execution_count": 134,
   "id": "44c6e71d",
   "metadata": {},
   "outputs": [
    {
     "data": {
      "text/plain": [
       "array(['spam'], dtype='<U4')"
      ]
     },
     "execution_count": 134,
     "metadata": {},
     "output_type": "execute_result"
    }
   ],
   "source": [
    "spam_detector.predict(sample_tfidf)"
   ]
  },
  {
   "cell_type": "code",
   "execution_count": 136,
   "id": "68cf6774",
   "metadata": {},
   "outputs": [
    {
     "data": {
      "text/plain": [
       "'spam'"
      ]
     },
     "execution_count": 136,
     "metadata": {},
     "output_type": "execute_result"
    }
   ],
   "source": [
    "# compare what it is with correct data\n",
    "contexts['label'][2]"
   ]
  },
  {
   "cell_type": "code",
   "execution_count": 137,
   "id": "08cae849",
   "metadata": {},
   "outputs": [],
   "source": [
    "total_pred = spam_detector.predict(contexts_tfidf)"
   ]
  },
  {
   "cell_type": "code",
   "execution_count": 138,
   "id": "1bb144ad",
   "metadata": {},
   "outputs": [
    {
     "data": {
      "text/plain": [
       "array(['ham', 'ham', 'spam', ..., 'ham', 'ham', 'ham'], dtype='<U4')"
      ]
     },
     "execution_count": 138,
     "metadata": {},
     "output_type": "execute_result"
    }
   ],
   "source": [
    "total_pred"
   ]
  },
  {
   "cell_type": "markdown",
   "id": "231af9a8",
   "metadata": {},
   "source": [
    "# Pipeline\n",
    "\n",
    "A Pipeline in Scikit-learn is a tool for streamlining a lot of the routine processes, encapsulating little pieces of the whole processing sequence of a data set, and improving the whole process of modeling and coding"
   ]
  },
  {
   "cell_type": "code",
   "execution_count": 140,
   "id": "452ed4c5",
   "metadata": {},
   "outputs": [],
   "source": [
    "from sklearn.model_selection import train_test_split"
   ]
  },
  {
   "cell_type": "code",
   "execution_count": 141,
   "id": "a61ba236",
   "metadata": {},
   "outputs": [],
   "source": [
    "c_train, c_test, l_train, l_test = train_test_split(\n",
    "    contexts['context'],\n",
    "    contexts['label'],\n",
    "    test_size=0.3,\n",
    "    random_state=42)"
   ]
  },
  {
   "cell_type": "code",
   "execution_count": 142,
   "id": "b4d87e37",
   "metadata": {},
   "outputs": [],
   "source": [
    "from sklearn.pipeline import Pipeline"
   ]
  },
  {
   "cell_type": "code",
   "execution_count": 143,
   "id": "b048cc4f",
   "metadata": {},
   "outputs": [],
   "source": [
    "pl = Pipeline([\n",
    "    ('bow', CountVectorizer(analyzer=preprocessing)),\n",
    "    ('tfidf', TfidfTransformer()),\n",
    "    ('classifier', MultinomialNB())\n",
    "])"
   ]
  },
  {
   "cell_type": "code",
   "execution_count": 144,
   "id": "d4677121",
   "metadata": {},
   "outputs": [
    {
     "data": {
      "text/plain": [
       "Pipeline(steps=[('bow',\n",
       "                 CountVectorizer(analyzer=<function preprocessing at 0x7fe079328d30>)),\n",
       "                ('tfidf', TfidfTransformer()),\n",
       "                ('classifier', MultinomialNB())])"
      ]
     },
     "execution_count": 144,
     "metadata": {},
     "output_type": "execute_result"
    }
   ],
   "source": [
    "pl.fit(c_train, l_train)"
   ]
  },
  {
   "cell_type": "code",
   "execution_count": 145,
   "id": "1e56d31e",
   "metadata": {},
   "outputs": [],
   "source": [
    "predictions = pl.predict(c_test)"
   ]
  },
  {
   "cell_type": "code",
   "execution_count": 146,
   "id": "cc111d82",
   "metadata": {},
   "outputs": [],
   "source": [
    "from sklearn.metrics import classification_report"
   ]
  },
  {
   "cell_type": "code",
   "execution_count": 147,
   "id": "70b704ec",
   "metadata": {},
   "outputs": [
    {
     "name": "stdout",
     "output_type": "stream",
     "text": [
      "              precision    recall  f1-score   support\n",
      "\n",
      "         ham       0.96      1.00      0.98      1448\n",
      "        spam       1.00      0.73      0.85       224\n",
      "\n",
      "    accuracy                           0.96      1672\n",
      "   macro avg       0.98      0.87      0.91      1672\n",
      "weighted avg       0.97      0.96      0.96      1672\n",
      "\n"
     ]
    }
   ],
   "source": [
    "print(classification_report(l_test, predictions))"
   ]
  },
  {
   "cell_type": "code",
   "execution_count": null,
   "id": "478c47c7",
   "metadata": {},
   "outputs": [],
   "source": []
  }
 ],
 "metadata": {
  "kernelspec": {
   "display_name": "Python 3 (ipykernel)",
   "language": "python",
   "name": "python3"
  },
  "language_info": {
   "codemirror_mode": {
    "name": "ipython",
    "version": 3
   },
   "file_extension": ".py",
   "mimetype": "text/x-python",
   "name": "python",
   "nbconvert_exporter": "python",
   "pygments_lexer": "ipython3",
   "version": "3.9.13"
  }
 },
 "nbformat": 4,
 "nbformat_minor": 5
}
