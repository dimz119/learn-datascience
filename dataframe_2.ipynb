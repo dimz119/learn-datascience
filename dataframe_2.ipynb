{
 "cells": [
  {
   "cell_type": "code",
   "execution_count": 23,
   "id": "8f50d1f1",
   "metadata": {},
   "outputs": [],
   "source": [
    "import pandas as pd"
   ]
  },
  {
   "cell_type": "code",
   "execution_count": 3,
   "id": "885eec49",
   "metadata": {},
   "outputs": [],
   "source": [
    "data = {\n",
    "    'Name': ['Alice', 'Bob', 'Charlie'],\n",
    "    'Age': [25, 30, 35],\n",
    "    'City': ['New York', 'San Francisco', 'Los Angeles']\n",
    "}\n",
    "\n",
    "df = pd.DataFrame(data)"
   ]
  },
  {
   "cell_type": "code",
   "execution_count": 4,
   "id": "4aaf20d8",
   "metadata": {},
   "outputs": [
    {
     "data": {
      "text/html": [
       "<div>\n",
       "<style scoped>\n",
       "    .dataframe tbody tr th:only-of-type {\n",
       "        vertical-align: middle;\n",
       "    }\n",
       "\n",
       "    .dataframe tbody tr th {\n",
       "        vertical-align: top;\n",
       "    }\n",
       "\n",
       "    .dataframe thead th {\n",
       "        text-align: right;\n",
       "    }\n",
       "</style>\n",
       "<table border=\"1\" class=\"dataframe\">\n",
       "  <thead>\n",
       "    <tr style=\"text-align: right;\">\n",
       "      <th></th>\n",
       "      <th>Name</th>\n",
       "      <th>Age</th>\n",
       "      <th>City</th>\n",
       "    </tr>\n",
       "  </thead>\n",
       "  <tbody>\n",
       "    <tr>\n",
       "      <th>2</th>\n",
       "      <td>Charlie</td>\n",
       "      <td>35</td>\n",
       "      <td>Los Angeles</td>\n",
       "    </tr>\n",
       "    <tr>\n",
       "      <th>1</th>\n",
       "      <td>Bob</td>\n",
       "      <td>30</td>\n",
       "      <td>San Francisco</td>\n",
       "    </tr>\n",
       "    <tr>\n",
       "      <th>0</th>\n",
       "      <td>Alice</td>\n",
       "      <td>25</td>\n",
       "      <td>New York</td>\n",
       "    </tr>\n",
       "  </tbody>\n",
       "</table>\n",
       "</div>"
      ],
      "text/plain": [
       "      Name  Age           City\n",
       "2  Charlie   35    Los Angeles\n",
       "1      Bob   30  San Francisco\n",
       "0    Alice   25       New York"
      ]
     },
     "execution_count": 4,
     "metadata": {},
     "output_type": "execute_result"
    }
   ],
   "source": [
    "df.sort_values(by='Age', ascending=False)"
   ]
  },
  {
   "cell_type": "code",
   "execution_count": 6,
   "id": "6564ea4e",
   "metadata": {},
   "outputs": [
    {
     "data": {
      "text/plain": [
       "30.0"
      ]
     },
     "execution_count": 6,
     "metadata": {},
     "output_type": "execute_result"
    }
   ],
   "source": [
    "df['Age'].mean()"
   ]
  },
  {
   "cell_type": "code",
   "execution_count": 7,
   "id": "5ebaaf13",
   "metadata": {},
   "outputs": [
    {
     "name": "stdout",
     "output_type": "stream",
     "text": [
      "   Column_A  Column_B  Column_C\n",
      "0         1         4         7\n",
      "1         2         5         8\n",
      "2         3         6         9\n"
     ]
    }
   ],
   "source": [
    "# renaming column\n",
    "data = {\n",
    "    'A': [1, 2, 3],\n",
    "    'B': [4, 5, 6],\n",
    "    'C': [7, 8, 9]\n",
    "}\n",
    "\n",
    "df = pd.DataFrame(data)\n",
    "\n",
    "# Rename columns\n",
    "df.rename(columns={'A': 'Column_A', 'B': 'Column_B', 'C': 'Column_C'}, inplace=True)\n",
    "print(df)"
   ]
  },
  {
   "cell_type": "code",
   "execution_count": 31,
   "id": "c7536444",
   "metadata": {},
   "outputs": [
    {
     "name": "stdout",
     "output_type": "stream",
     "text": [
      "      Name  Age\n",
      "0    Alice   25\n",
      "1      Bob   30\n",
      "0  Charlie   35\n",
      "1    David   40\n",
      "\n",
      "\n",
      "      Name  Age\n",
      "0    Alice   25\n",
      "1      Bob   30\n",
      "2  Charlie   35\n",
      "3    David   40\n"
     ]
    }
   ],
   "source": [
    "# concaternating dataframe\n",
    "data1 = {\n",
    "    'Name': ['Alice', 'Bob'],\n",
    "    'Age': [25, 30]\n",
    "}\n",
    "\n",
    "data2 = {\n",
    "    'Name': ['Charlie', 'David'],\n",
    "    'Age': [35, 40]\n",
    "}\n",
    "\n",
    "df1 = pd.DataFrame(data1)\n",
    "df2 = pd.DataFrame(data2)\n",
    "\n",
    "# Concatenate DataFrames vertically\n",
    "df_concatenated = pd.concat([df1, df2])\n",
    "print(df_concatenated)\n",
    "\n",
    "print(\"\\n\")\n",
    "\n",
    "df_concatenated = pd.concat([df1, df2], ignore_index=True)\n",
    "print(df_concatenated)"
   ]
  },
  {
   "cell_type": "code",
   "execution_count": 35,
   "id": "8aa1d384",
   "metadata": {},
   "outputs": [
    {
     "name": "stdout",
     "output_type": "stream",
     "text": [
      "   ID     Name  Age\n",
      "0   1    Alice   25\n",
      "1   2      Bob   30\n",
      "2   3  Charlie   35\n",
      "\n",
      "\n",
      "       Name   Age\n",
      "ID               \n",
      "1     Alice  25.0\n",
      "2       Bob  30.0\n",
      "3   Charlie  35.0\n",
      "4     Sarah   NaN\n"
     ]
    }
   ],
   "source": [
    "# merging dataframe\n",
    "data1 = {\n",
    "    'ID': [1, 2, 3, 4],\n",
    "    'Name': ['Alice', 'Bob', 'Charlie', 'Sarah']\n",
    "}\n",
    "\n",
    "data2 = {\n",
    "    'ID': [1, 2, 3],\n",
    "    'Age': [25, 30, 35]\n",
    "}\n",
    "\n",
    "df1 = pd.DataFrame(data1)\n",
    "df2 = pd.DataFrame(data2)\n",
    "\n",
    "# Merge DataFrames on the 'ID' column\n",
    "df_merged = pd.merge(df1, df2, how='inner', on='ID') # how can be outer, right\n",
    "print(df_merged)\n",
    "\n",
    "print(\"\\n\")\n",
    "\n",
    "# join DataFrames\n",
    "df1.set_index('ID', inplace=True)\n",
    "df2.set_index('ID', inplace=True)\n",
    "joined_df = df1.join(df2)\n",
    "print(joined_df)"
   ]
  },
  {
   "cell_type": "code",
   "execution_count": 28,
   "id": "19035cc2",
   "metadata": {},
   "outputs": [
    {
     "name": "stdout",
     "output_type": "stream",
     "text": [
      "              Value\n",
      "Category           \n",
      "A         26.666667\n",
      "B         43.333333\n",
      "              Value\n",
      "Category           \n",
      "A         20.816660\n",
      "B         15.275252\n",
      "         Value                                                    \n",
      "         count       mean        std   min   25%   50%   75%   max\n",
      "Category                                                          \n",
      "A          3.0  26.666667  20.816660  10.0  15.0  20.0  35.0  50.0\n",
      "B          3.0  43.333333  15.275252  30.0  35.0  40.0  50.0  60.0\n",
      "          Value\n",
      "Category       \n",
      "A            80\n",
      "B           130\n"
     ]
    }
   ],
   "source": [
    "# grouping and aggregating\n",
    "data = {\n",
    "    'Category': ['A', 'A', 'B', 'B', 'A', 'B'],\n",
    "    'Value': [10, 20, 30, 40, 50, 60]\n",
    "}\n",
    "\n",
    "df = pd.DataFrame(data)\n",
    "\n",
    "group_by_category = df.groupby('Category')\n",
    "\n",
    "# mean\n",
    "print(group_by_category.mean())\n",
    "\n",
    "# standard deviation\n",
    "print(group_by_category.std())\n",
    "\n",
    "# describe\n",
    "print(group_by_category.describe())\n",
    "\n",
    "# Group by 'Category' and calculate the sum of 'Value'\n",
    "grouped_df = group_by_category.agg({'Value': 'sum'})\n",
    "print(grouped_df)"
   ]
  },
  {
   "cell_type": "code",
   "execution_count": 38,
   "id": "1e6ae094",
   "metadata": {},
   "outputs": [
    {
     "name": "stdout",
     "output_type": "stream",
     "text": [
      "               Value\n",
      "Letter Number       \n",
      "A      one         1\n",
      "       two         2\n",
      "B      one         3\n",
      "       two         4\n",
      "C      one         5\n",
      "       two         6\n"
     ]
    }
   ],
   "source": [
    "# multiindex\n",
    "import pandas as pd\n",
    "\n",
    "# Create a list of tuples for the MultiIndex\n",
    "index_tuples = [\n",
    "    ('A', 'one'),\n",
    "    ('A', 'two'),\n",
    "    ('B', 'one'),\n",
    "    ('B', 'two'),\n",
    "    ('C', 'one'),\n",
    "    ('C', 'two')\n",
    "]\n",
    "\n",
    "# Create a MultiIndex using the list of tuples\n",
    "multi_index = pd.MultiIndex.from_tuples(index_tuples, names=['Letter', 'Number'])\n",
    "\n",
    "# Create a pandas DataFrame with the MultiIndex\n",
    "data = {'Value': [1, 2, 3, 4, 5, 6]}\n",
    "df = pd.DataFrame(data, index=multi_index)\n",
    "\n",
    "print(df)\n"
   ]
  },
  {
   "cell_type": "code",
   "execution_count": 39,
   "id": "fb0efe42",
   "metadata": {},
   "outputs": [
    {
     "data": {
      "text/plain": [
       "FrozenList(['Letter', 'Number'])"
      ]
     },
     "execution_count": 39,
     "metadata": {},
     "output_type": "execute_result"
    }
   ],
   "source": [
    "df.index.names"
   ]
  },
  {
   "cell_type": "code",
   "execution_count": 40,
   "id": "8d120be3",
   "metadata": {},
   "outputs": [
    {
     "data": {
      "text/plain": [
       "Value    1\n",
       "Name: one, dtype: int64"
      ]
     },
     "execution_count": 40,
     "metadata": {},
     "output_type": "execute_result"
    }
   ],
   "source": [
    "df.loc['A'].loc['one']"
   ]
  },
  {
   "cell_type": "code",
   "execution_count": 41,
   "id": "4a289e53",
   "metadata": {},
   "outputs": [],
   "source": [
    "df['Value2'] = [9,8,7,6,5,4]"
   ]
  },
  {
   "cell_type": "code",
   "execution_count": 42,
   "id": "b0b600e4",
   "metadata": {},
   "outputs": [
    {
     "data": {
      "text/html": [
       "<div>\n",
       "<style scoped>\n",
       "    .dataframe tbody tr th:only-of-type {\n",
       "        vertical-align: middle;\n",
       "    }\n",
       "\n",
       "    .dataframe tbody tr th {\n",
       "        vertical-align: top;\n",
       "    }\n",
       "\n",
       "    .dataframe thead th {\n",
       "        text-align: right;\n",
       "    }\n",
       "</style>\n",
       "<table border=\"1\" class=\"dataframe\">\n",
       "  <thead>\n",
       "    <tr style=\"text-align: right;\">\n",
       "      <th></th>\n",
       "      <th></th>\n",
       "      <th>Value</th>\n",
       "      <th>Value2</th>\n",
       "    </tr>\n",
       "    <tr>\n",
       "      <th>Letter</th>\n",
       "      <th>Number</th>\n",
       "      <th></th>\n",
       "      <th></th>\n",
       "    </tr>\n",
       "  </thead>\n",
       "  <tbody>\n",
       "    <tr>\n",
       "      <th rowspan=\"2\" valign=\"top\">A</th>\n",
       "      <th>one</th>\n",
       "      <td>1</td>\n",
       "      <td>9</td>\n",
       "    </tr>\n",
       "    <tr>\n",
       "      <th>two</th>\n",
       "      <td>2</td>\n",
       "      <td>8</td>\n",
       "    </tr>\n",
       "    <tr>\n",
       "      <th rowspan=\"2\" valign=\"top\">B</th>\n",
       "      <th>one</th>\n",
       "      <td>3</td>\n",
       "      <td>7</td>\n",
       "    </tr>\n",
       "    <tr>\n",
       "      <th>two</th>\n",
       "      <td>4</td>\n",
       "      <td>6</td>\n",
       "    </tr>\n",
       "    <tr>\n",
       "      <th rowspan=\"2\" valign=\"top\">C</th>\n",
       "      <th>one</th>\n",
       "      <td>5</td>\n",
       "      <td>5</td>\n",
       "    </tr>\n",
       "    <tr>\n",
       "      <th>two</th>\n",
       "      <td>6</td>\n",
       "      <td>4</td>\n",
       "    </tr>\n",
       "  </tbody>\n",
       "</table>\n",
       "</div>"
      ],
      "text/plain": [
       "               Value  Value2\n",
       "Letter Number               \n",
       "A      one         1       9\n",
       "       two         2       8\n",
       "B      one         3       7\n",
       "       two         4       6\n",
       "C      one         5       5\n",
       "       two         6       4"
      ]
     },
     "execution_count": 42,
     "metadata": {},
     "output_type": "execute_result"
    }
   ],
   "source": [
    "df"
   ]
  },
  {
   "cell_type": "code",
   "execution_count": 44,
   "id": "6970ecec",
   "metadata": {},
   "outputs": [
    {
     "data": {
      "text/plain": [
       "9"
      ]
     },
     "execution_count": 44,
     "metadata": {},
     "output_type": "execute_result"
    }
   ],
   "source": [
    "df.loc['A'].loc['one']['Value2']"
   ]
  },
  {
   "cell_type": "code",
   "execution_count": 22,
   "id": "f94767e1",
   "metadata": {},
   "outputs": [
    {
     "data": {
      "text/html": [
       "<div>\n",
       "<style scoped>\n",
       "    .dataframe tbody tr th:only-of-type {\n",
       "        vertical-align: middle;\n",
       "    }\n",
       "\n",
       "    .dataframe tbody tr th {\n",
       "        vertical-align: top;\n",
       "    }\n",
       "\n",
       "    .dataframe thead th {\n",
       "        text-align: right;\n",
       "    }\n",
       "</style>\n",
       "<table border=\"1\" class=\"dataframe\">\n",
       "  <thead>\n",
       "    <tr style=\"text-align: right;\">\n",
       "      <th></th>\n",
       "      <th>Value</th>\n",
       "      <th>Value2</th>\n",
       "    </tr>\n",
       "    <tr>\n",
       "      <th>Letter</th>\n",
       "      <th></th>\n",
       "      <th></th>\n",
       "    </tr>\n",
       "  </thead>\n",
       "  <tbody>\n",
       "    <tr>\n",
       "      <th>A</th>\n",
       "      <td>1</td>\n",
       "      <td>9</td>\n",
       "    </tr>\n",
       "    <tr>\n",
       "      <th>B</th>\n",
       "      <td>3</td>\n",
       "      <td>7</td>\n",
       "    </tr>\n",
       "    <tr>\n",
       "      <th>C</th>\n",
       "      <td>5</td>\n",
       "      <td>5</td>\n",
       "    </tr>\n",
       "  </tbody>\n",
       "</table>\n",
       "</div>"
      ],
      "text/plain": [
       "        Value  Value2\n",
       "Letter               \n",
       "A           1       9\n",
       "B           3       7\n",
       "C           5       5"
      ]
     },
     "execution_count": 22,
     "metadata": {},
     "output_type": "execute_result"
    }
   ],
   "source": [
    "df.xs('one', level=1) # Return cross-section from the Series/DataFrame."
   ]
  },
  {
   "cell_type": "code",
   "execution_count": null,
   "id": "b98d0375",
   "metadata": {},
   "outputs": [],
   "source": []
  }
 ],
 "metadata": {
  "kernelspec": {
   "display_name": "Python 3 (ipykernel)",
   "language": "python",
   "name": "python3"
  },
  "language_info": {
   "codemirror_mode": {
    "name": "ipython",
    "version": 3
   },
   "file_extension": ".py",
   "mimetype": "text/x-python",
   "name": "python",
   "nbconvert_exporter": "python",
   "pygments_lexer": "ipython3",
   "version": "3.9.13"
  }
 },
 "nbformat": 4,
 "nbformat_minor": 5
}
