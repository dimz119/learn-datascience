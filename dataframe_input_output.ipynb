{
 "cells": [
  {
   "cell_type": "code",
   "execution_count": 42,
   "id": "7eb45ee5",
   "metadata": {},
   "outputs": [
    {
     "data": {
      "text/plain": [
       "'/Users/seungjoonlee/git/learn-datascience'"
      ]
     },
     "execution_count": 42,
     "metadata": {},
     "output_type": "execute_result"
    }
   ],
   "source": [
    "pwd"
   ]
  },
  {
   "cell_type": "code",
   "execution_count": 43,
   "id": "1e49030d",
   "metadata": {},
   "outputs": [
    {
     "name": "stdout",
     "output_type": "stream",
     "text": [
      "            name  age                      country\n",
      "0  Neville Hardy   56                         Niue\n",
      "1    Dacia Cohen   74  Falkland Islands (Malvinas)\n",
      "2  Kathey Daniel   10                     Slovenia\n",
      "3   Mallie Welch   12            Equatorial Guinea\n",
      "4   Katia Bryant   14                        Ghana\n"
     ]
    }
   ],
   "source": [
    "import pandas as pd\n",
    "\n",
    "# Read the CSV file\n",
    "data = pd.read_csv('sample/random_data.csv')\n",
    "\n",
    "# Print the first 5 rows of the data\n",
    "print(data.head())"
   ]
  },
  {
   "cell_type": "code",
   "execution_count": 45,
   "id": "8fcdeb18",
   "metadata": {},
   "outputs": [],
   "source": [
    "# output in csv\n",
    "data.to_csv(\"sample/random_data_output.csv\", index=False)"
   ]
  },
  {
   "cell_type": "code",
   "execution_count": 48,
   "id": "669172a9",
   "metadata": {},
   "outputs": [
    {
     "name": "stdout",
     "output_type": "stream",
     "text": [
      "   fruit   size color\n",
      "0  Apple  Large   Red\n"
     ]
    }
   ],
   "source": [
    "# Read the JSON file\n",
    "data = pd.read_json('sample/sample_index.json')\n",
    "\n",
    "# Print the first 5 rows of the data\n",
    "print(data.head())"
   ]
  },
  {
   "cell_type": "code",
   "execution_count": 49,
   "id": "550c6774",
   "metadata": {},
   "outputs": [
    {
     "data": {
      "text/html": [
       "<div>\n",
       "<style scoped>\n",
       "    .dataframe tbody tr th:only-of-type {\n",
       "        vertical-align: middle;\n",
       "    }\n",
       "\n",
       "    .dataframe tbody tr th {\n",
       "        vertical-align: top;\n",
       "    }\n",
       "\n",
       "    .dataframe thead th {\n",
       "        text-align: right;\n",
       "    }\n",
       "</style>\n",
       "<table border=\"1\" class=\"dataframe\">\n",
       "  <thead>\n",
       "    <tr style=\"text-align: right;\">\n",
       "      <th></th>\n",
       "      <th>fruit</th>\n",
       "      <th>size</th>\n",
       "      <th>color</th>\n",
       "    </tr>\n",
       "  </thead>\n",
       "  <tbody>\n",
       "    <tr>\n",
       "      <th>0</th>\n",
       "      <td>Apple</td>\n",
       "      <td>Large</td>\n",
       "      <td>Red</td>\n",
       "    </tr>\n",
       "  </tbody>\n",
       "</table>\n",
       "</div>"
      ],
      "text/plain": [
       "   fruit   size color\n",
       "0  Apple  Large   Red"
      ]
     },
     "execution_count": 49,
     "metadata": {},
     "output_type": "execute_result"
    }
   ],
   "source": [
    "import json\n",
    "# Reading the json as a dict\n",
    "with open('sample/sample.json') as json_data:\n",
    "    data = json.load(json_data)\n",
    "pd.DataFrame(data, index=[0])"
   ]
  },
  {
   "cell_type": "code",
   "execution_count": 12,
   "id": "584b7e84",
   "metadata": {},
   "outputs": [
    {
     "name": "stdout",
     "output_type": "stream",
     "text": [
      "Requirement already satisfied: sqlalchemy in /Users/seungjoonlee/opt/anaconda3/lib/python3.9/site-packages (1.4.39)\n",
      "Collecting mysql-connector-python\n",
      "  Downloading mysql_connector_python-8.0.32-py2.py3-none-any.whl (381 kB)\n",
      "\u001b[2K     \u001b[38;2;114;156;31m━━━━━━━━━━━━━━━━━━━━━━━━━━━━━━━━━━━━━━━\u001b[0m \u001b[32m381.6/381.6 kB\u001b[0m \u001b[31m6.5 MB/s\u001b[0m eta \u001b[36m0:00:00\u001b[0m[31m6.4 MB/s\u001b[0m eta \u001b[36m0:00:01\u001b[0m\n",
      "\u001b[?25hRequirement already satisfied: greenlet!=0.4.17 in /Users/seungjoonlee/opt/anaconda3/lib/python3.9/site-packages (from sqlalchemy) (1.1.1)\n",
      "Collecting protobuf<=3.20.3,>=3.11.0\n",
      "  Downloading protobuf-3.20.3-cp39-cp39-macosx_10_9_x86_64.whl (982 kB)\n",
      "\u001b[2K     \u001b[38;2;114;156;31m━━━━━━━━━━━━━━━━━━━━━━━━━━━━━━━━━━━━━━\u001b[0m \u001b[32m982.8/982.8 kB\u001b[0m \u001b[31m22.2 MB/s\u001b[0m eta \u001b[36m0:00:00\u001b[0mm eta \u001b[36m0:00:01\u001b[0m\n",
      "\u001b[?25hInstalling collected packages: protobuf, mysql-connector-python\n",
      "Successfully installed mysql-connector-python-8.0.32 protobuf-3.20.3\n"
     ]
    }
   ],
   "source": [
    "!pip install sqlalchemy mysql-connector-python"
   ]
  },
  {
   "cell_type": "code",
   "execution_count": 51,
   "id": "6e3b2baa",
   "metadata": {},
   "outputs": [],
   "source": [
    "import sqlalchemy as sa\n",
    "\n",
    "# Replace the following values with your actual database connection information\n",
    "db_username = 'user'\n",
    "db_password = 'password'\n",
    "db_host = '127.0.0.1'\n",
    "db_port = '3306'\n",
    "db_name = 'db'\n",
    "\n",
    "# Create a connection string (this example is for PostgreSQL)\n",
    "connection_string = f'mysql+mysqlconnector://{db_username}:{db_password}@{db_host}:{db_port}/{db_name}'\n",
    "\n",
    "# Create a connection to the database\n",
    "engine = sa.create_engine(connection_string)"
   ]
  },
  {
   "cell_type": "code",
   "execution_count": 52,
   "id": "9126708d",
   "metadata": {},
   "outputs": [],
   "source": [
    "# imported the data from: https://raw.githubusercontent.com/hhorak/mysql-sample-db/master/mysqlsampledatabase.sql"
   ]
  },
  {
   "cell_type": "code",
   "execution_count": 54,
   "id": "ed9f03c2",
   "metadata": {},
   "outputs": [
    {
     "name": "stdout",
     "output_type": "stream",
     "text": [
      "   customerNumber                customerName         phone\n",
      "0             103           Atelier graphique    40.32.2555\n",
      "1             112          Signal Gift Stores    7025551838\n",
      "2             114  Australian Collectors, Co.  03 9520 4555\n",
      "3             119           La Rochelle Gifts    40.67.8555\n",
      "4             121          Baane Mini Imports    07-98 9555\n"
     ]
    }
   ],
   "source": [
    "# Read data from the MySQL database\n",
    "sql_query = f'SELECT customerNumber, customerName, phone FROM customers'\n",
    "data = pd.read_sql_query(sql_query, engine)\n",
    "\n",
    "# Print the first 5 rows of the data\n",
    "print(data.head())"
   ]
  },
  {
   "cell_type": "code",
   "execution_count": 21,
   "id": "2babf564",
   "metadata": {},
   "outputs": [
    {
     "name": "stdout",
     "output_type": "stream",
     "text": [
      "Requirement already satisfied: openpyxl in /Users/seungjoonlee/opt/anaconda3/lib/python3.9/site-packages (3.0.10)\r\n",
      "Requirement already satisfied: xlrd in /Users/seungjoonlee/opt/anaconda3/lib/python3.9/site-packages (2.0.1)\r\n",
      "Requirement already satisfied: et_xmlfile in /Users/seungjoonlee/opt/anaconda3/lib/python3.9/site-packages (from openpyxl) (1.1.0)\r\n"
     ]
    }
   ],
   "source": [
    "!pip install openpyxl xlrd"
   ]
  },
  {
   "cell_type": "code",
   "execution_count": 55,
   "id": "379d0d33",
   "metadata": {},
   "outputs": [
    {
     "name": "stdout",
     "output_type": "stream",
     "text": [
      "         Table 1 Unnamed: 1                   Unnamed: 2\n",
      "0           name        age                      country\n",
      "1  Neville Hardy         56                         Niue\n",
      "2    Dacia Cohen         74  Falkland Islands (Malvinas)\n",
      "3  Kathey Daniel         10                     Slovenia\n",
      "4   Mallie Welch         12            Equatorial Guinea\n"
     ]
    }
   ],
   "source": [
    "# Read the Excel file\n",
    "data = pd.read_excel('sample/sample.xlsx', sheet_name='Sheet 1')\n",
    "\n",
    "# Print the first 5 rows of the data\n",
    "print(data.head())"
   ]
  },
  {
   "cell_type": "code",
   "execution_count": 37,
   "id": "d72f7f9b",
   "metadata": {},
   "outputs": [],
   "source": [
    "data.to_excel(\"sample/sample_output.xlsx\", sheet_name='Sheet 1')"
   ]
  },
  {
   "cell_type": "code",
   "execution_count": 38,
   "id": "84bf47a2",
   "metadata": {},
   "outputs": [
    {
     "name": "stdout",
     "output_type": "stream",
     "text": [
      "Requirement already satisfied: lxml in /Users/seungjoonlee/opt/anaconda3/lib/python3.9/site-packages (4.9.1)\n",
      "Collecting html5lib\n",
      "  Using cached html5lib-1.1-py2.py3-none-any.whl (112 kB)\n",
      "Requirement already satisfied: beautifulsoup4 in /Users/seungjoonlee/opt/anaconda3/lib/python3.9/site-packages (4.11.1)\n",
      "Requirement already satisfied: six>=1.9 in /Users/seungjoonlee/opt/anaconda3/lib/python3.9/site-packages (from html5lib) (1.16.0)\n",
      "Requirement already satisfied: webencodings in /Users/seungjoonlee/opt/anaconda3/lib/python3.9/site-packages (from html5lib) (0.5.1)\n",
      "Requirement already satisfied: soupsieve>1.2 in /Users/seungjoonlee/opt/anaconda3/lib/python3.9/site-packages (from beautifulsoup4) (2.3.1)\n",
      "Installing collected packages: html5lib\n",
      "Successfully installed html5lib-1.1\n"
     ]
    }
   ],
   "source": [
    "!pip install lxml html5lib beautifulsoup4"
   ]
  },
  {
   "cell_type": "code",
   "execution_count": 57,
   "id": "5db9aec0",
   "metadata": {},
   "outputs": [
    {
     "name": "stdout",
     "output_type": "stream",
     "text": [
      "Number of tables found: 3\n",
      "  Rank Country / Dependency  Population                        Date  \\\n",
      "  Rank Country / Dependency     Numbers % of the world         Date   \n",
      "0    –                World  8021758000           100%  27 Mar 2023   \n",
      "1    1                China  1411750000            NaN  31 Dec 2022   \n",
      "2    2                India  1388163000            NaN   1 Mar 2023   \n",
      "3    3        United States   334547000            NaN  27 Mar 2023   \n",
      "4    4            Indonesia   275773800            NaN   1 Jul 2022   \n",
      "\n",
      "  Source (official or from the United Nations)  \\\n",
      "  Source (official or from the United Nations)   \n",
      "0                             UN projection[3]   \n",
      "1                         Official estimate[4]   \n",
      "2                       Official projection[5]   \n",
      "3                 National population clock[6]   \n",
      "4                         Official estimate[7]   \n",
      "\n",
      "                                               Notes  \n",
      "                                               Notes  \n",
      "0                                                NaN  \n",
      "1  Refers to mainland China; excludes China's spe...  \n",
      "2  Includes the population of the India-administe...  \n",
      "3  Includes the 50 states and the District of Col...  \n",
      "4                                                NaN  \n"
     ]
    }
   ],
   "source": [
    "# Sample URL containing an HTML table\n",
    "url = 'https://en.wikipedia.org/wiki/List_of_countries_and_dependencies_by_population'\n",
    "\n",
    "# Read the HTML tables into a list of DataFrames\n",
    "tables = pd.read_html(url)\n",
    "\n",
    "# Check the number of tables found\n",
    "print(f\"Number of tables found: {len(tables)}\")\n",
    "\n",
    "# Print the first table (usually the one of interest)\n",
    "print(tables[1].head())"
   ]
  },
  {
   "cell_type": "code",
   "execution_count": null,
   "id": "dc80ef49",
   "metadata": {},
   "outputs": [],
   "source": []
  }
 ],
 "metadata": {
  "kernelspec": {
   "display_name": "Python 3 (ipykernel)",
   "language": "python",
   "name": "python3"
  },
  "language_info": {
   "codemirror_mode": {
    "name": "ipython",
    "version": 3
   },
   "file_extension": ".py",
   "mimetype": "text/x-python",
   "name": "python",
   "nbconvert_exporter": "python",
   "pygments_lexer": "ipython3",
   "version": "3.9.13"
  }
 },
 "nbformat": 4,
 "nbformat_minor": 5
}
