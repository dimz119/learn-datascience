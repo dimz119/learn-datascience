{
 "cells": [
  {
   "cell_type": "code",
   "execution_count": 12,
   "id": "f6b8b5c6",
   "metadata": {},
   "outputs": [],
   "source": [
    "import pandas as pd\n",
    "from sklearn.datasets import fetch_california_housing\n",
    "from sklearn.model_selection import train_test_split\n",
    "from sklearn.linear_model import LinearRegression\n",
    "\n",
    "# Load the California Housing dataset\n",
    "california_data = fetch_california_housing()\n",
    "df = pd.DataFrame(california_data.data, columns=california_data.feature_names)\n",
    "df['MedHouseValue'] = california_data.target\n",
    "\n",
    "X = df.drop('MedHouseValue', axis=1)\n",
    "y = df['MedHouseValue']  # target variable (median house value)\n",
    "X_train, X_test, y_train, y_test = train_test_split(X, y, test_size=0.2, random_state=42)"
   ]
  },
  {
   "cell_type": "code",
   "execution_count": 3,
   "id": "9337eeef",
   "metadata": {},
   "outputs": [
    {
     "data": {
      "text/plain": [
       "LinearRegression()"
      ]
     },
     "execution_count": 3,
     "metadata": {},
     "output_type": "execute_result"
    }
   ],
   "source": [
    "lr_model = LinearRegression()\n",
    "lr_model.fit(X_train, y_train)"
   ]
  },
  {
   "cell_type": "code",
   "execution_count": 4,
   "id": "bd17076f",
   "metadata": {},
   "outputs": [],
   "source": [
    "predictions = lr_model.predict(X_test)"
   ]
  },
  {
   "cell_type": "code",
   "execution_count": 5,
   "id": "f6134dc9",
   "metadata": {},
   "outputs": [
    {
     "data": {
      "text/plain": [
       "array([0.71912284, 1.76401657, 2.70965883, ..., 4.46877017, 1.18751119,\n",
       "       2.00940251])"
      ]
     },
     "execution_count": 5,
     "metadata": {},
     "output_type": "execute_result"
    }
   ],
   "source": [
    "predictions"
   ]
  },
  {
   "cell_type": "code",
   "execution_count": 10,
   "id": "ff4f82d0",
   "metadata": {},
   "outputs": [
    {
     "name": "stdout",
     "output_type": "stream",
     "text": [
      "New Predictions: [0.71912284 1.76401657 2.70965883 ... 4.46877017 1.18751119 2.00940251]\n"
     ]
    }
   ],
   "source": [
    "from joblib import dump, load\n",
    "\n",
    "dump(lr_model, 'linear_regression_model.joblib')\n",
    "loaded_model = load('linear_regression_model.joblib')\n",
    "\n",
    "# Make predictions using the loaded model\n",
    "new_predictions = loaded_model.predict(X_test)\n",
    "print(\"New Predictions:\", new_predictions)"
   ]
  },
  {
   "cell_type": "code",
   "execution_count": 11,
   "id": "48d80e4f",
   "metadata": {},
   "outputs": [
    {
     "name": "stdout",
     "output_type": "stream",
     "text": [
      "New Predictions: [0.71912284 1.76401657 2.70965883 ... 4.46877017 1.18751119 2.00940251]\n"
     ]
    }
   ],
   "source": [
    "import pickle\n",
    "\n",
    "# Save the trained model as a pickle file\n",
    "with open('linear_regression_model.pkl', 'wb') as file:\n",
    "    pickle.dump(lr_model, file)\n",
    "    \n",
    "with open('linear_regression_model.pkl', 'rb') as file:\n",
    "    loaded_model = pickle.load(file)\n",
    "    \n",
    "# Make predictions using the loaded model\n",
    "new_predictions = loaded_model.predict(X_test)\n",
    "print(\"New Predictions:\", new_predictions)"
   ]
  },
  {
   "cell_type": "code",
   "execution_count": null,
   "id": "9901e2ef",
   "metadata": {},
   "outputs": [],
   "source": []
  }
 ],
 "metadata": {
  "kernelspec": {
   "display_name": "Python 3 (ipykernel)",
   "language": "python",
   "name": "python3"
  },
  "language_info": {
   "codemirror_mode": {
    "name": "ipython",
    "version": 3
   },
   "file_extension": ".py",
   "mimetype": "text/x-python",
   "name": "python",
   "nbconvert_exporter": "python",
   "pygments_lexer": "ipython3",
   "version": "3.9.13"
  }
 },
 "nbformat": 4,
 "nbformat_minor": 5
}
